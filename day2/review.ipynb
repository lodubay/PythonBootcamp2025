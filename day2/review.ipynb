{
 "cells": [
  {
   "cell_type": "markdown",
   "id": "5bfe3f70-ad87-4ef8-9071-270ac86c12cc",
   "metadata": {},
   "source": [
    "# ***Python Review***\n",
    "\n",
    "Notebook developed by Kaz Gary\n",
    "\n",
    "Adapted from slides by James Johnson"
   ]
  },
  {
   "cell_type": "markdown",
   "id": "cb4f30bb-8245-43fa-965d-3592355c8619",
   "metadata": {},
   "source": [
    "Today's notebook is designed to help you review the basics of Python! In this notebook you will:\n",
    "\n",
    "* Learn about built-in data types and how to tell the difference between them\n",
    "* Learn what conditional statements are and how to use them\n",
    "* Learn how to code a loop\n",
    "* Learn how to define and build a function in Python\n",
    "* Learn how to import data from an text file using both Python basics and NumPy"
   ]
  },
  {
   "cell_type": "markdown",
   "id": "c9d6b7c4-65ad-4954-93d8-9a2bb813fbba",
   "metadata": {},
   "source": [
    "## **Data Types**"
   ]
  },
  {
   "cell_type": "markdown",
   "id": "cd60a062-1271-4ef4-a39e-e3106bb22774",
   "metadata": {},
   "source": [
    "### *Numeric Types*"
   ]
  },
  {
   "cell_type": "markdown",
   "id": "a104d8ff-5a1f-4fa7-88da-ecfbe730afb0",
   "metadata": {},
   "source": [
    "What do we mean when we say 'numeric type'?  \n",
    "\n",
    "Numeric types are just a fancy way of saying that numbers have to have data types to be intepreted by Python! There are two numeric types built in to Python:\n",
    "\n",
    "* *int*: integers (ex. 1, 4, 89)\n",
    "* *float*: real numbers (ex. 8.567, 132.90, 4.7)\n",
    "\n",
    "It's important to note that some packages, such as NumPy, have their own built-in numeric types (ex. NumPy has it's own integer numeric type: numpy.int64)"
   ]
  },
  {
   "cell_type": "markdown",
   "id": "7c3180f6-77a9-4542-b29c-fc37b036a3f5",
   "metadata": {},
   "source": [
    "#### Numeric Operations"
   ]
  },
  {
   "cell_type": "markdown",
   "id": "5887a8c0-2f89-4fc1-a2f1-9ba865b8deb9",
   "metadata": {},
   "source": [
    "Python operations that require numeric types:\n",
    "\n",
    "* \t=, ==, +, -, *, /, //, %, +=, -=, *=, /=, //=, %=\n",
    "    * (Recall: x += y is the same as x = x + y)\n",
    "* / vs. //: true division vs. floor division (also called integer quotient)\n",
    "    * 3 / 2 returns 1.5, but 3 // 2 returns 1\n",
    "* %: modulo (calculates remainder)\n",
    "    * 5 % 2 returns 1; 5 % 3 returns 2; 5 % 1 returns 0"
   ]
  },
  {
   "cell_type": "markdown",
   "id": "6ae2cc87-ca86-430c-ad62-73927f167dd4",
   "metadata": {},
   "source": [
    "### *Strings*"
   ]
  },
  {
   "cell_type": "markdown",
   "id": "f69e93c4-2dc0-462c-bcbf-b3ed1a30adde",
   "metadata": {},
   "source": [
    "Simpy put, strings are text!\n",
    "\n",
    "* To declare a string, use either single ‘’ or double “” quotes\n",
    "* Triple quotes declare a multi-line string (This will come up again later)\n",
    "* In Python 3, strings are unicode by default, meaning you can use special characters without changing anything\n",
    "\n"
   ]
  },
  {
   "cell_type": "markdown",
   "id": "5d6f01d5-d704-44cb-81cd-a64ee4cfa314",
   "metadata": {},
   "source": [
    "Strings are also compatible with the += operator! Here's an example to understand how to declare a string and use the += operator with it!"
   ]
  },
  {
   "cell_type": "code",
   "execution_count": 2,
   "id": "17e8d3a4-ec18-413d-b9a3-ecd70f8f5b53",
   "metadata": {},
   "outputs": [],
   "source": [
    "# Declare our variable as a string\n",
    "\n",
    "x = \"This is a \""
   ]
  },
  {
   "cell_type": "code",
   "execution_count": 3,
   "id": "2c7e3985-afc6-4677-a25a-2eb762e314c9",
   "metadata": {},
   "outputs": [],
   "source": [
    "# Use += operator to add another string to our variable\n",
    "\n",
    "x += \"test string.\""
   ]
  },
  {
   "cell_type": "code",
   "execution_count": 4,
   "id": "460e389b-3254-44e0-b99e-4a1162d548f6",
   "metadata": {},
   "outputs": [
    {
     "data": {
      "text/plain": [
       "'This is a test string.'"
      ]
     },
     "execution_count": 4,
     "metadata": {},
     "output_type": "execute_result"
    }
   ],
   "source": [
    "# Now let's see what our variable is after using the += operator\n",
    "\n",
    "x"
   ]
  },
  {
   "cell_type": "markdown",
   "id": "2d5000de-4ea5-4c62-b00e-6f36b12fbbc1",
   "metadata": {},
   "source": [
    "### *The Print Function*"
   ]
  },
  {
   "cell_type": "markdown",
   "id": "53d40b12-5c98-4593-9d02-70585ca2dec0",
   "metadata": {},
   "source": [
    "In C/C++ print statements are done with *printf* in stdio.h, and *cout* in iostream\n",
    "\n",
    "In Python, we can print things with the following statement:\n",
    "\n",
    "* *print(things to print)*\n",
    "\n",
    "Note: Parentheses are required in Python 3, but not Python 2 (which is deprecated so you shouldn’t be using it anyway)"
   ]
  },
  {
   "cell_type": "markdown",
   "id": "89503c98-944f-4fc8-a552-c96d03955872",
   "metadata": {},
   "source": [
    "You can pass multiple parameters separated by commas, and they’ll print with spaces between them. Let's see how that looks:"
   ]
  },
  {
   "cell_type": "code",
   "execution_count": 5,
   "id": "df04d9cb-2d6f-477e-910b-054996d7f861",
   "metadata": {},
   "outputs": [],
   "source": [
    "# Define variables\n",
    "\n",
    "x = \"Mark has\"\n",
    "y = 27\n",
    "z = \"apples.\""
   ]
  },
  {
   "cell_type": "code",
   "execution_count": 6,
   "id": "72099609-4e94-4245-8e31-704f3436611d",
   "metadata": {},
   "outputs": [
    {
     "name": "stdout",
     "output_type": "stream",
     "text": [
      "Mark has 27 apples.\n"
     ]
    }
   ],
   "source": [
    "# print multiple variables\n",
    "\n",
    "print(x, y, z)"
   ]
  },
  {
   "cell_type": "markdown",
   "id": "cb8127c1-dfeb-4072-a01c-ff18e0cc7a0f",
   "metadata": {},
   "source": [
    "### *Type Casting*"
   ]
  },
  {
   "cell_type": "markdown",
   "id": "9dc2c85a-37e2-48ae-8c88-86ee3793444e",
   "metadata": {},
   "source": [
    "Python objects can be converted between compatible types!\n",
    "\n",
    "* Strings containing numbers can be converted to numeric types\n",
    "* Integers can be converted to floats and vice versa"
   ]
  },
  {
   "cell_type": "markdown",
   "id": "a5609f17-22b0-4f50-ab4e-eb539089046e",
   "metadata": {},
   "source": [
    "Let's see how this works:"
   ]
  },
  {
   "cell_type": "code",
   "execution_count": 7,
   "id": "944f568a-b553-44bc-84b4-890e8b1814c7",
   "metadata": {},
   "outputs": [
    {
     "data": {
      "text/plain": [
       "'3'"
      ]
     },
     "execution_count": 7,
     "metadata": {},
     "output_type": "execute_result"
    }
   ],
   "source": [
    "# Define our variable\n",
    "\n",
    "x = \"3\"\n",
    "\n",
    "x"
   ]
  },
  {
   "cell_type": "code",
   "execution_count": 8,
   "id": "396bd2d0-bd64-48a0-8f9d-728baf2c92f1",
   "metadata": {},
   "outputs": [
    {
     "data": {
      "text/plain": [
       "3"
      ]
     },
     "execution_count": 8,
     "metadata": {},
     "output_type": "execute_result"
    }
   ],
   "source": [
    "# Covert our variable from a string to an integer\n",
    "\n",
    "int(x)"
   ]
  },
  {
   "cell_type": "code",
   "execution_count": 9,
   "id": "0c87cccc-fc99-4b1b-9166-d36af8ba8d8c",
   "metadata": {},
   "outputs": [
    {
     "data": {
      "text/plain": [
       "3.0"
      ]
     },
     "execution_count": 9,
     "metadata": {},
     "output_type": "execute_result"
    }
   ],
   "source": [
    "# Convert our variable from an integer to a float\n",
    "\n",
    "float(x)"
   ]
  },
  {
   "cell_type": "code",
   "execution_count": 10,
   "id": "9ffaa2a0-e9ac-4c45-9d2c-ce435568efb9",
   "metadata": {},
   "outputs": [
    {
     "data": {
      "text/plain": [
       "3.1"
      ]
     },
     "execution_count": 10,
     "metadata": {},
     "output_type": "execute_result"
    }
   ],
   "source": [
    "# Let's redefine our variable as a float\n",
    "\n",
    "x = 3.1\n",
    "\n",
    "x"
   ]
  },
  {
   "cell_type": "code",
   "execution_count": 11,
   "id": "1f4f27da-0e17-4ec4-93a0-1f57721e8b54",
   "metadata": {},
   "outputs": [
    {
     "data": {
      "text/plain": [
       "3"
      ]
     },
     "execution_count": 11,
     "metadata": {},
     "output_type": "execute_result"
    }
   ],
   "source": [
    "# Now let's convert from a float back into an integer\n",
    "\n",
    "int(x)"
   ]
  },
  {
   "cell_type": "code",
   "execution_count": 12,
   "id": "81139f9a-4b30-45e2-b19a-827b75ac87d0",
   "metadata": {},
   "outputs": [
    {
     "data": {
      "text/plain": [
       "3.0"
      ]
     },
     "execution_count": 12,
     "metadata": {},
     "output_type": "execute_result"
    }
   ],
   "source": [
    "# We can also just directly convert our number instead of defining it as a variable. Let's directly convert an integer back to a float.\n",
    "\n",
    "float(3)"
   ]
  },
  {
   "cell_type": "code",
   "execution_count": 13,
   "id": "f03c62ce-0a45-42e0-b7d6-de352cc13f3b",
   "metadata": {},
   "outputs": [
    {
     "data": {
      "text/plain": [
       "3.0"
      ]
     },
     "execution_count": 13,
     "metadata": {},
     "output_type": "execute_result"
    }
   ],
   "source": [
    "# By ending a number with a decimal point, we are specifically declaring it to be a float.\n",
    "# Notice how this cell's output is the same as the one above.\n",
    "\n",
    "3."
   ]
  },
  {
   "cell_type": "markdown",
   "id": "10a5fdea-72f1-43fa-b59f-e98534f3db55",
   "metadata": {},
   "source": [
    "### *Import Statements*"
   ]
  },
  {
   "cell_type": "markdown",
   "id": "10e18bd0-b98b-4b8a-b845-b45b87639275",
   "metadata": {},
   "source": [
    "Import statments are used to load a python library into your current code\n",
    "\n",
    "* Analogous to *#include* and *using* in C/C++\n",
    "* Can assign imported modules new names upon import with *from* and *as*\n",
    "* *from ___ import* * imports all contents"
   ]
  },
  {
   "cell_type": "markdown",
   "id": "46bcd728-8851-490e-b541-24cfb22f884c",
   "metadata": {},
   "source": [
    "Let's import some popular libraries:"
   ]
  },
  {
   "cell_type": "code",
   "execution_count": 14,
   "id": "bb70f22f-b6e1-4aa8-b138-146444080b1a",
   "metadata": {},
   "outputs": [],
   "source": [
    "import matplotlib.pyplot as plt\n",
    "import numpy as np\n",
    "from math import log10 as log\n",
    "import sys"
   ]
  },
  {
   "cell_type": "code",
   "execution_count": 15,
   "id": "9e11f711-7922-4a51-aea9-4eee24ac6eec",
   "metadata": {},
   "outputs": [
    {
     "data": {
      "text/plain": [
       "1.0"
      ]
     },
     "execution_count": 15,
     "metadata": {},
     "output_type": "execute_result"
    }
   ],
   "source": [
    "# Let's call some of these libraries using the names we assigned them!\n",
    "\n",
    "log(10)"
   ]
  },
  {
   "cell_type": "code",
   "execution_count": 16,
   "id": "7668243b-584f-476c-85c3-f08732269a74",
   "metadata": {},
   "outputs": [
    {
     "data": {
      "text/plain": [
       "0.47712125471966244"
      ]
     },
     "execution_count": 16,
     "metadata": {},
     "output_type": "execute_result"
    }
   ],
   "source": [
    "log(3)"
   ]
  },
  {
   "cell_type": "code",
   "execution_count": 17,
   "id": "e5c3fd1a-d366-46bd-9f77-3b4a377fd2fc",
   "metadata": {},
   "outputs": [
    {
     "data": {
      "text/plain": [
       "<Figure size 640x480 with 0 Axes>"
      ]
     },
     "execution_count": 17,
     "metadata": {},
     "output_type": "execute_result"
    },
    {
     "data": {
      "text/plain": [
       "<Figure size 640x480 with 0 Axes>"
      ]
     },
     "metadata": {},
     "output_type": "display_data"
    }
   ],
   "source": [
    "plt.figure()"
   ]
  },
  {
   "cell_type": "markdown",
   "id": "68ea4c1b-13d9-4155-b59e-1da11b40b30f",
   "metadata": {},
   "source": [
    "### *List*"
   ]
  },
  {
   "cell_type": "markdown",
   "id": "dca381aa-e0e9-45c8-928d-dee945d4cfaf",
   "metadata": {},
   "source": [
    "A list is a sequence of objects.\n",
    "\n",
    "* Created with square brackets [ ]\n",
    "* Can be any mix of types\n",
    "* You can access an element of the sequence by its position\n",
    "    * Negative indices start at the end of the list and count backwards (ex. list[-1] accesses the last index in the list)\n",
    "    * Modification proceeds in the same manner\n",
    "* Append function adds an element to the end\n",
    "    * Can also use ‘+’ to combine lists"
   ]
  },
  {
   "cell_type": "code",
   "execution_count": 18,
   "id": "06086361-4517-4ce1-a94b-979c86535446",
   "metadata": {},
   "outputs": [],
   "source": [
    "# Let's define a list:\n",
    "\n",
    "example = [1, 2, \"string\", 3]"
   ]
  },
  {
   "cell_type": "code",
   "execution_count": 19,
   "id": "f2fa8acc-73a6-4a71-aa05-7df26bf04f9a",
   "metadata": {},
   "outputs": [
    {
     "data": {
      "text/plain": [
       "1"
      ]
     },
     "execution_count": 19,
     "metadata": {},
     "output_type": "execute_result"
    }
   ],
   "source": [
    "# Let's access the first index in the list (remember Python indices start at 0!)\n",
    "\n",
    "example[0]"
   ]
  },
  {
   "cell_type": "code",
   "execution_count": 20,
   "id": "1003f92f-522c-4c9e-95c2-7162a85054ec",
   "metadata": {},
   "outputs": [
    {
     "data": {
      "text/plain": [
       "'string'"
      ]
     },
     "execution_count": 20,
     "metadata": {},
     "output_type": "execute_result"
    }
   ],
   "source": [
    "example[2]"
   ]
  },
  {
   "cell_type": "code",
   "execution_count": 21,
   "id": "1af92d35-5fe8-4e62-bf99-81fb6fbd561a",
   "metadata": {},
   "outputs": [],
   "source": [
    "# Let's use the append function to an element to the end of our list!\n",
    "\n",
    "example.append(\"appended\")"
   ]
  },
  {
   "cell_type": "code",
   "execution_count": 22,
   "id": "37e989e4-75d8-4f4e-bf21-41b70d435a24",
   "metadata": {},
   "outputs": [
    {
     "data": {
      "text/plain": [
       "[1, 2, 'string', 3, 'appended']"
      ]
     },
     "execution_count": 22,
     "metadata": {},
     "output_type": "execute_result"
    }
   ],
   "source": [
    "# Show the new list\n",
    "\n",
    "example"
   ]
  },
  {
   "cell_type": "code",
   "execution_count": 23,
   "id": "20f914c1-239e-4489-91e0-05fde37d3e62",
   "metadata": {},
   "outputs": [
    {
     "data": {
      "text/plain": [
       "'appended'"
      ]
     },
     "execution_count": 23,
     "metadata": {},
     "output_type": "execute_result"
    }
   ],
   "source": [
    "# Let's access the last index in the list\n",
    "\n",
    "example[-1]"
   ]
  },
  {
   "cell_type": "markdown",
   "id": "c205594f-2020-4907-8207-802dc03c11ca",
   "metadata": {},
   "source": [
    "### *Tuple*"
   ]
  },
  {
   "cell_type": "markdown",
   "id": "118b5275-7914-4c54-b800-7cb4c3957f9d",
   "metadata": {},
   "source": [
    "A tuple is an *immutable* sequence of objects\n",
    "\n",
    "* Created with parentheses ( )\n",
    "* Can be any mix of types\n",
    "* Access an element of the sequence by its position\n",
    "    * Negative indices start at the end of the tuple and count backwards\n",
    "    * Modification not allowed (immutability)\n",
    "    * Can still use ‘+’ to add elements to the end (returns a new tuple)"
   ]
  },
  {
   "cell_type": "code",
   "execution_count": 24,
   "id": "42276d49-b686-42b4-a9fa-9f3a2b46e1b6",
   "metadata": {},
   "outputs": [],
   "source": [
    "# Let's make our previous list into a tuple\n",
    "\n",
    "example = (1, 2, \"string\", 3)"
   ]
  },
  {
   "cell_type": "code",
   "execution_count": 25,
   "id": "4a1af3f3-d599-4159-b738-f7f5da88b724",
   "metadata": {},
   "outputs": [
    {
     "data": {
      "text/plain": [
       "1"
      ]
     },
     "execution_count": 25,
     "metadata": {},
     "output_type": "execute_result"
    }
   ],
   "source": [
    "# Let's index the tuple the same way we would the list\n",
    "\n",
    "example[0]"
   ]
  },
  {
   "cell_type": "code",
   "execution_count": 26,
   "id": "973f78e9-a4dc-4eef-a8af-30a6b799d92c",
   "metadata": {},
   "outputs": [
    {
     "data": {
      "text/plain": [
       "'string'"
      ]
     },
     "execution_count": 26,
     "metadata": {},
     "output_type": "execute_result"
    }
   ],
   "source": [
    "example[2]"
   ]
  },
  {
   "cell_type": "code",
   "execution_count": 27,
   "id": "7c375b88-a430-40ea-93dd-af2c4fea5c06",
   "metadata": {},
   "outputs": [
    {
     "ename": "AttributeError",
     "evalue": "'tuple' object has no attribute 'append'",
     "output_type": "error",
     "traceback": [
      "\u001b[0;31m---------------------------------------------------------------------------\u001b[0m",
      "\u001b[0;31mAttributeError\u001b[0m                            Traceback (most recent call last)",
      "Cell \u001b[0;32mIn[27], line 3\u001b[0m\n\u001b[1;32m      1\u001b[0m \u001b[38;5;66;03m# Let's try to use the append function on a tuple:\u001b[39;00m\n\u001b[0;32m----> 3\u001b[0m example\u001b[38;5;241m.\u001b[39mappend(\u001b[38;5;124m\"\u001b[39m\u001b[38;5;124mappended\u001b[39m\u001b[38;5;124m\"\u001b[39m)\n",
      "\u001b[0;31mAttributeError\u001b[0m: 'tuple' object has no attribute 'append'"
     ]
    }
   ],
   "source": [
    "# Let's try to use the append function on a tuple:\n",
    "\n",
    "example.append(\"appended\")"
   ]
  },
  {
   "cell_type": "code",
   "execution_count": 28,
   "id": "231831cd-5f20-48db-bad2-f2720b40712a",
   "metadata": {},
   "outputs": [
    {
     "data": {
      "text/plain": [
       "3"
      ]
     },
     "execution_count": 28,
     "metadata": {},
     "output_type": "execute_result"
    }
   ],
   "source": [
    "# Remember! Tuples are immutable, meaning they can't be modified. We can't use the append function.\n",
    "# Let's index the last element in the tuple\n",
    "\n",
    "example[-1]"
   ]
  },
  {
   "cell_type": "code",
   "execution_count": 29,
   "id": "a61df080-be8c-4f5c-a4a3-8a69a4f0349d",
   "metadata": {},
   "outputs": [
    {
     "ename": "TypeError",
     "evalue": "'tuple' object does not support item assignment",
     "output_type": "error",
     "traceback": [
      "\u001b[0;31m---------------------------------------------------------------------------\u001b[0m",
      "\u001b[0;31mTypeError\u001b[0m                                 Traceback (most recent call last)",
      "Cell \u001b[0;32mIn[29], line 3\u001b[0m\n\u001b[1;32m      1\u001b[0m \u001b[38;5;66;03m# Let's try and replace one of the elements in the tuple with a different one\u001b[39;00m\n\u001b[0;32m----> 3\u001b[0m example[\u001b[38;5;241m1\u001b[39m] \u001b[38;5;241m=\u001b[39m \u001b[38;5;241m1\u001b[39m\n",
      "\u001b[0;31mTypeError\u001b[0m: 'tuple' object does not support item assignment"
     ]
    }
   ],
   "source": [
    "# Let's try and replace one of the elements in the tuple with a different one\n",
    "\n",
    "example[1] = 1"
   ]
  },
  {
   "cell_type": "code",
   "execution_count": 30,
   "id": "dc4c38b6-9e13-448c-88c0-c068b8b617c9",
   "metadata": {},
   "outputs": [],
   "source": [
    "# Let's try using the += operator instead\n",
    "\n",
    "example += (4, 5)"
   ]
  },
  {
   "cell_type": "code",
   "execution_count": 31,
   "id": "2b7e9103-8a7e-4b0f-ae98-54e9711baa8b",
   "metadata": {},
   "outputs": [
    {
     "data": {
      "text/plain": [
       "(1, 2, 'string', 3, 4, 5)"
      ]
     },
     "execution_count": 31,
     "metadata": {},
     "output_type": "execute_result"
    }
   ],
   "source": [
    "example"
   ]
  },
  {
   "cell_type": "markdown",
   "id": "5660ed21-fe82-4434-bbb9-7b6b3bded0c6",
   "metadata": {},
   "source": [
    "### *Set*"
   ]
  },
  {
   "cell_type": "markdown",
   "id": "e8fe9152-f5ba-4ede-9649-47ad0ffbce9a",
   "metadata": {},
   "source": [
    "A set is usually used to ensure uniqueness\n",
    "\n",
    "* list(set(some_list)) will remove duplicate elements\n",
    "* Created with the set() function or with {} enclosing elements (be careful w/this, see next section)\n",
    "* Don’t allow indexing, so aren’t as commonly used as lists, tuples, and dictionaries\n",
    "* Have some other useful function such as union and intersection (‘|’ and ‘&’)"
   ]
  },
  {
   "cell_type": "code",
   "execution_count": 32,
   "id": "7c30005e-281b-49f5-a9b3-1d64d330c99f",
   "metadata": {},
   "outputs": [
    {
     "data": {
      "text/plain": [
       "[0, 1, 2, 3, 4, 5, 6, 7, 8, 9]"
      ]
     },
     "execution_count": 32,
     "metadata": {},
     "output_type": "execute_result"
    }
   ],
   "source": [
    "# Let's test the functionality of set on a list\n",
    "\n",
    "x = list(range(10))\n",
    "\n",
    "x"
   ]
  },
  {
   "cell_type": "code",
   "execution_count": 33,
   "id": "191ea4bd-1ed9-4d26-8b33-ace0a2392a57",
   "metadata": {},
   "outputs": [
    {
     "data": {
      "text/plain": [
       "[0, 1, 2, 4, 4, 5, 6, 7, 8, 9]"
      ]
     },
     "execution_count": 33,
     "metadata": {},
     "output_type": "execute_result"
    }
   ],
   "source": [
    "x[3] = 4\n",
    "\n",
    "x"
   ]
  },
  {
   "cell_type": "code",
   "execution_count": 34,
   "id": "fd2d054a-bb5b-4c81-ac44-e21ce949316c",
   "metadata": {},
   "outputs": [
    {
     "data": {
      "text/plain": [
       "[0, 1, 2, 4, 5, 6, 7, 8, 9]"
      ]
     },
     "execution_count": 34,
     "metadata": {},
     "output_type": "execute_result"
    }
   ],
   "source": [
    "list(set(x))"
   ]
  },
  {
   "cell_type": "markdown",
   "id": "c9999c09-79e3-4c0a-9c82-dda5d67d950e",
   "metadata": {},
   "source": [
    "### *Dictionary*"
   ]
  },
  {
   "cell_type": "markdown",
   "id": "c83d3144-bf34-49d1-8c60-2febd327b402",
   "metadata": {},
   "source": [
    "A dictionary is python’s version of a *hash table*.\n",
    "\n",
    "* Can be used to map objects to other objects\n",
    "* Created with {}\n",
    "* Stored values can be accessed via their key\n",
    "* keys() function returns each key\n",
    "* Popular method of storing data b/c keys can be strings which describe the data, allowing very readable code"
   ]
  },
  {
   "cell_type": "code",
   "execution_count": 35,
   "id": "ba9462b5-5649-47ea-8d4e-58740d252650",
   "metadata": {},
   "outputs": [],
   "source": [
    "# Let's define a dictionary and test some of the functionalities\n",
    "\n",
    "example = {\"a\":1, \"b\":2, 3:\"c\"}"
   ]
  },
  {
   "cell_type": "code",
   "execution_count": 36,
   "id": "862ad449-733c-4a76-9ca0-c7544b515950",
   "metadata": {},
   "outputs": [
    {
     "data": {
      "text/plain": [
       "1"
      ]
     },
     "execution_count": 36,
     "metadata": {},
     "output_type": "execute_result"
    }
   ],
   "source": [
    "example[\"a\"]"
   ]
  },
  {
   "cell_type": "code",
   "execution_count": 37,
   "id": "a57632e4-a8cc-46a8-996c-7dc381bea42b",
   "metadata": {},
   "outputs": [
    {
     "data": {
      "text/plain": [
       "'c'"
      ]
     },
     "execution_count": 37,
     "metadata": {},
     "output_type": "execute_result"
    }
   ],
   "source": [
    "example[3]"
   ]
  },
  {
   "cell_type": "code",
   "execution_count": 38,
   "id": "460a1e61-6f36-4c12-829a-831bdebd3a97",
   "metadata": {},
   "outputs": [
    {
     "data": {
      "text/plain": [
       "dict_keys(['a', 'b', 3])"
      ]
     },
     "execution_count": 38,
     "metadata": {},
     "output_type": "execute_result"
    }
   ],
   "source": [
    "example.keys()"
   ]
  },
  {
   "cell_type": "code",
   "execution_count": 39,
   "id": "e823eefe-75e5-46ec-8c6c-22c17df052c7",
   "metadata": {},
   "outputs": [
    {
     "data": {
      "text/plain": [
       "{'a': 1, 'b': 2, 3: 'c', 'mass': [0, 1, 2, 3, 4, 5, 6, 7, 8, 9]}"
      ]
     },
     "execution_count": 39,
     "metadata": {},
     "output_type": "execute_result"
    }
   ],
   "source": [
    "example[\"mass\"] = list(range(10))\n",
    "\n",
    "example"
   ]
  },
  {
   "cell_type": "markdown",
   "id": "f41fed81-7e83-4d4f-83d7-35d2a81b3d88",
   "metadata": {},
   "source": [
    "### *What data type should I use?*"
   ]
  },
  {
   "cell_type": "markdown",
   "id": "aea863ab-8c37-476d-a38b-cf60ccc82714",
   "metadata": {},
   "source": [
    "Do you need a logical key-value connection?\n",
    "* If yes: use a dictionary\n",
    "\n",
    "\n",
    "Do you need to ensure uniqueness of each element, or perhaps union or intersection operations?\n",
    "* If yes: use a set\n",
    "\n",
    "\n",
    "Do you need to ensure that the contents will never change?\n",
    "* If yes: use a tuple\n",
    "\n",
    "If you answered no to all of these, a list should suffice."
   ]
  },
  {
   "cell_type": "markdown",
   "id": "c5d223e0-030c-4afa-8f1f-a62f9b12dc82",
   "metadata": {},
   "source": [
    "### *Arrays*"
   ]
  },
  {
   "cell_type": "markdown",
   "id": "08940ec4-e813-4f36-ab9d-63d77ff81d22",
   "metadata": {},
   "source": [
    "Arrays in practice are the same as a list, but have some special implementation of tracking data types under the hood, and allow some calculations to be automatically “vectorized”\n",
    "\n",
    "* Can often speed up code\n",
    "* There is a built-in array object, but in practice, most people use the NumPy array"
   ]
  },
  {
   "cell_type": "markdown",
   "id": "ed48beb9-4809-4140-91cd-dfbd4ff33383",
   "metadata": {},
   "source": [
    "The single most important thing to remember about arrays:\n",
    "### ***LISTS AND ARRAYS ARE NOT THE SAME THING***"
   ]
  },
  {
   "cell_type": "markdown",
   "id": "ea85628b-6b9d-421d-98ab-e3bb961003a4",
   "metadata": {},
   "source": [
    "### *Lists vs. Arrays*"
   ]
  },
  {
   "cell_type": "markdown",
   "id": "b09fd161-8a3e-4c9e-92c9-d33ea083b42a",
   "metadata": {},
   "source": [
    "* Lists and arrays are ***different objects*** meant to store similar data\n",
    "* Example: NumPy arrays allow multiplication with another array. A list does not.\n",
    "* It’s probably safe to say that a large portion of all modern scientific code is written using NumPy arrays\n",
    "* Advice: Pick one of either lists or arrays for a given program and stick to it"
   ]
  },
  {
   "cell_type": "code",
   "execution_count": 40,
   "id": "1ec9d0b7-9eff-4866-9870-673df0e59e73",
   "metadata": {},
   "outputs": [],
   "source": [
    "# Let's create a list and NumPy array to compare the differences\n",
    "\n",
    "x = list(range(10))\n",
    "y = np.array(range(10))"
   ]
  },
  {
   "cell_type": "code",
   "execution_count": 41,
   "id": "8ca76303-f451-4800-b0f9-60bbc86591d4",
   "metadata": {},
   "outputs": [
    {
     "data": {
      "text/plain": [
       "[0, 1, 2, 3, 4, 5, 6, 7, 8, 9]"
      ]
     },
     "execution_count": 41,
     "metadata": {},
     "output_type": "execute_result"
    }
   ],
   "source": [
    "x"
   ]
  },
  {
   "cell_type": "code",
   "execution_count": 42,
   "id": "487d038e-2da6-41e0-8861-0890048174f6",
   "metadata": {},
   "outputs": [
    {
     "data": {
      "text/plain": [
       "array([0, 1, 2, 3, 4, 5, 6, 7, 8, 9])"
      ]
     },
     "execution_count": 42,
     "metadata": {},
     "output_type": "execute_result"
    }
   ],
   "source": [
    "y"
   ]
  },
  {
   "cell_type": "code",
   "execution_count": 43,
   "id": "04342592-aecd-4fec-a702-e95c8b1ded79",
   "metadata": {},
   "outputs": [
    {
     "data": {
      "text/plain": [
       "list"
      ]
     },
     "execution_count": 43,
     "metadata": {},
     "output_type": "execute_result"
    }
   ],
   "source": [
    "type(x)"
   ]
  },
  {
   "cell_type": "code",
   "execution_count": 44,
   "id": "ee475d32-dd33-48ad-a9a0-8fc6dc37c7ce",
   "metadata": {},
   "outputs": [
    {
     "data": {
      "text/plain": [
       "numpy.ndarray"
      ]
     },
     "execution_count": 44,
     "metadata": {},
     "output_type": "execute_result"
    }
   ],
   "source": [
    "type(y)"
   ]
  },
  {
   "cell_type": "code",
   "execution_count": 45,
   "id": "6ba6d96d-d78d-41e2-aa17-c9870e05e3b2",
   "metadata": {},
   "outputs": [
    {
     "data": {
      "text/plain": [
       "array([ 0,  1,  4,  9, 16, 25, 36, 49, 64, 81])"
      ]
     },
     "execution_count": 45,
     "metadata": {},
     "output_type": "execute_result"
    }
   ],
   "source": [
    "y * y"
   ]
  },
  {
   "cell_type": "code",
   "execution_count": 46,
   "id": "8399a485-de69-403d-8b63-36b3f777a21b",
   "metadata": {},
   "outputs": [
    {
     "ename": "TypeError",
     "evalue": "can't multiply sequence by non-int of type 'list'",
     "output_type": "error",
     "traceback": [
      "\u001b[0;31m---------------------------------------------------------------------------\u001b[0m",
      "\u001b[0;31mTypeError\u001b[0m                                 Traceback (most recent call last)",
      "Cell \u001b[0;32mIn[46], line 1\u001b[0m\n\u001b[0;32m----> 1\u001b[0m x \u001b[38;5;241m*\u001b[39m x\n",
      "\u001b[0;31mTypeError\u001b[0m: can't multiply sequence by non-int of type 'list'"
     ]
    }
   ],
   "source": [
    "x * x"
   ]
  },
  {
   "cell_type": "markdown",
   "id": "65f35d19-039a-40a3-8295-5bfad88f8093",
   "metadata": {},
   "source": [
    "You can use numerical operators on an array, but not a list!"
   ]
  },
  {
   "cell_type": "markdown",
   "id": "9b165d05-4f77-48ce-a71a-7d4ce4866d33",
   "metadata": {},
   "source": [
    "### *Slicing*"
   ]
  },
  {
   "cell_type": "markdown",
   "id": "d7c03a60-0f04-4e71-a89d-07aa7a7a0554",
   "metadata": {},
   "source": [
    "Slicing is a technique used to pull multiple items from array-like objects\n",
    "\n",
    "* General rule: start:stop:stepsize\n",
    "* Start, stop, and stepsize can be omitted, and Python defaults to the beginning or end with a step size of 1, depending on what’s omitted\n",
    "* Achieved by separating indices with a colon\n",
    "* Negative step sizes go through the array in reverse order"
   ]
  },
  {
   "cell_type": "code",
   "execution_count": 47,
   "id": "2276deb0-af14-44a3-9a33-c01cf6cb8a38",
   "metadata": {},
   "outputs": [],
   "source": [
    "x = list(range(10))"
   ]
  },
  {
   "cell_type": "code",
   "execution_count": 48,
   "id": "9a5b9fa3-8304-4000-b1fe-8822fedb6511",
   "metadata": {},
   "outputs": [
    {
     "data": {
      "text/plain": [
       "[0, 1, 2, 3, 4, 5, 6, 7, 8, 9]"
      ]
     },
     "execution_count": 48,
     "metadata": {},
     "output_type": "execute_result"
    }
   ],
   "source": [
    "x"
   ]
  },
  {
   "cell_type": "code",
   "execution_count": 49,
   "id": "aec2ea24-5243-4ec1-b35b-ad1a32e7d737",
   "metadata": {},
   "outputs": [
    {
     "data": {
      "text/plain": [
       "[2, 3, 4]"
      ]
     },
     "execution_count": 49,
     "metadata": {},
     "output_type": "execute_result"
    }
   ],
   "source": [
    "# Let's slice for a specific set of indices\n",
    "\n",
    "x[2:5]"
   ]
  },
  {
   "cell_type": "code",
   "execution_count": 50,
   "id": "9e05631d-c884-40bf-8291-4052d454147f",
   "metadata": {},
   "outputs": [
    {
     "data": {
      "text/plain": [
       "[3, 4, 5, 6, 7, 8]"
      ]
     },
     "execution_count": 50,
     "metadata": {},
     "output_type": "execute_result"
    }
   ],
   "source": [
    "x[3:9]"
   ]
  },
  {
   "cell_type": "code",
   "execution_count": 51,
   "id": "a431aa38-ee8e-4901-9c2c-1fdee91b299f",
   "metadata": {},
   "outputs": [
    {
     "data": {
      "text/plain": [
       "[1, 2, 3, 4, 5, 6, 7, 8]"
      ]
     },
     "execution_count": 51,
     "metadata": {},
     "output_type": "execute_result"
    }
   ],
   "source": [
    "x[1:-1]"
   ]
  },
  {
   "cell_type": "code",
   "execution_count": 52,
   "id": "5b1380e8-4b66-4cd0-a296-781d6f351f8f",
   "metadata": {},
   "outputs": [
    {
     "data": {
      "text/plain": [
       "[0, 1, 2, 3, 4, 5, 6, 7, 8]"
      ]
     },
     "execution_count": 52,
     "metadata": {},
     "output_type": "execute_result"
    }
   ],
   "source": [
    "# If you want to start or stop the slice at the first or last element, then you can leave part of the slice blank.\n",
    "# Let's slice from the first to second-to-last element\n",
    "\n",
    "x[:-1]"
   ]
  },
  {
   "cell_type": "code",
   "execution_count": 53,
   "id": "bdcca16c-b79c-48f6-b1fa-c45632ed091e",
   "metadata": {},
   "outputs": [
    {
     "data": {
      "text/plain": [
       "[1, 2, 3, 4, 5, 6, 7, 8, 9]"
      ]
     },
     "execution_count": 53,
     "metadata": {},
     "output_type": "execute_result"
    }
   ],
   "source": [
    "# It works! Now, let's slice from a different element all the way to the end:\n",
    "\n",
    "x[1:]"
   ]
  },
  {
   "cell_type": "code",
   "execution_count": 54,
   "id": "6eb587f2-1a80-4a30-be9c-cd367086ffdb",
   "metadata": {},
   "outputs": [
    {
     "data": {
      "text/plain": [
       "[1, 3, 5, 7, 9]"
      ]
     },
     "execution_count": 54,
     "metadata": {},
     "output_type": "execute_result"
    }
   ],
   "source": [
    "# Let's utilize the stepsize function of the array to slice every other element\n",
    "\n",
    "x[1::2]"
   ]
  },
  {
   "cell_type": "code",
   "execution_count": 55,
   "id": "70eb1d43-f2f5-4ba6-88f0-22e02a8b392b",
   "metadata": {},
   "outputs": [
    {
     "data": {
      "text/plain": [
       "[9, 8, 7, 6, 5, 4, 3, 2, 1, 0]"
      ]
     },
     "execution_count": 55,
     "metadata": {},
     "output_type": "execute_result"
    }
   ],
   "source": [
    "# Let's use the stepsize to look at the array backwards\n",
    "\n",
    "x[::-1]"
   ]
  },
  {
   "cell_type": "markdown",
   "id": "4d8ba2dc-d11a-494b-9944-035f2e23ec86",
   "metadata": {},
   "source": [
    "## **Conditonal Statements**"
   ]
  },
  {
   "cell_type": "markdown",
   "id": "2009b2b4-da59-40ff-aa00-17bdc46eb7da",
   "metadata": {},
   "source": [
    "Conditional statements can be used to conduct different operations based on whether or not a given condition is satisfied\n",
    "\n",
    "Uses boolean logic: True and False\n",
    "* Note: Numbers can be used as well – anything nonzero evaluates to True.\n",
    "\n",
    "Tip: Don’t compare to True and False\n",
    "* if x == True and if x == False are simply if x and if not x"
   ]
  },
  {
   "cell_type": "code",
   "execution_count": 56,
   "id": "f0c6ebc4-bafe-416b-a97b-5a578b7bec48",
   "metadata": {},
   "outputs": [
    {
     "name": "stdout",
     "output_type": "stream",
     "text": [
      "x is positive.\n"
     ]
    }
   ],
   "source": [
    "# Let's see an example of using if/elif/else statements as conditional statements \n",
    "\n",
    "x = 1\n",
    "\n",
    "if x > 0:\n",
    "    print(\"x is positive.\")\n",
    "elif x == 0:\n",
    "    print(\"x is zero.\")\n",
    "else:\n",
    "    print(\"x is negative.\")\n"
   ]
  },
  {
   "cell_type": "code",
   "execution_count": 57,
   "id": "c63c05fa-6704-4456-b588-b1fa2d0f6308",
   "metadata": {},
   "outputs": [
    {
     "name": "stdout",
     "output_type": "stream",
     "text": [
      "x is zero.\n"
     ]
    }
   ],
   "source": [
    "x = 0\n",
    "\n",
    "if x > 0:\n",
    "    print(\"x is positive.\")\n",
    "elif x == 0:\n",
    "    print(\"x is zero.\")\n",
    "else:\n",
    "    print(\"x is negative.\")"
   ]
  },
  {
   "cell_type": "code",
   "execution_count": 58,
   "id": "24c681f2-e0db-4477-a692-3d0507b3804f",
   "metadata": {},
   "outputs": [
    {
     "name": "stdout",
     "output_type": "stream",
     "text": [
      "x is negative.\n"
     ]
    }
   ],
   "source": [
    "x = -1\n",
    "\n",
    "if x > 0:\n",
    "    print(\"x is positive.\")\n",
    "elif x == 0:\n",
    "    print(\"x is zero.\")\n",
    "else:\n",
    "    print(\"x is negative.\")"
   ]
  },
  {
   "cell_type": "markdown",
   "id": "ad70eb68-e8a9-4bfe-8430-04b0f7ac6c3a",
   "metadata": {},
   "source": [
    "Note that *if/elif/else* blocks are executed *in order*. Be careful when picking the order of the statements. Let's see an example of where this might go wrong."
   ]
  },
  {
   "cell_type": "code",
   "execution_count": 59,
   "id": "ee02b11d-0f00-4be1-8177-0c1bc757c3fa",
   "metadata": {},
   "outputs": [
    {
     "name": "stdout",
     "output_type": "stream",
     "text": [
      "x is positive.\n"
     ]
    }
   ],
   "source": [
    "x = 1\n",
    "\n",
    "if x >= 0:\n",
    "    print(\"x is positive.\")\n",
    "elif x == 0:\n",
    "    print(\"x is zero.\")\n",
    "else:\n",
    "    print(\"x is negative.\")"
   ]
  },
  {
   "cell_type": "code",
   "execution_count": 60,
   "id": "e0ee8f00-cc6b-4dc8-be5d-aa6d0c78a0c4",
   "metadata": {},
   "outputs": [
    {
     "name": "stdout",
     "output_type": "stream",
     "text": [
      "x is positive.\n"
     ]
    }
   ],
   "source": [
    "x = 0\n",
    "\n",
    "if x >= 0:\n",
    "    print(\"x is positive.\")\n",
    "elif x == 0:\n",
    "    print(\"x is zero.\")\n",
    "else:\n",
    "    print(\"x is negative.\")"
   ]
  },
  {
   "cell_type": "code",
   "execution_count": 61,
   "id": "b4dd238e-da56-4057-ae3c-d49264eb8211",
   "metadata": {},
   "outputs": [
    {
     "name": "stdout",
     "output_type": "stream",
     "text": [
      "x is negative.\n"
     ]
    }
   ],
   "source": [
    "x = -1\n",
    "\n",
    "if x >= 0:\n",
    "    print(\"x is positive.\")\n",
    "elif x == 0:\n",
    "    print(\"x is zero.\")\n",
    "else:\n",
    "    print(\"x is negative.\")"
   ]
  },
  {
   "cell_type": "markdown",
   "id": "26203538-1e2c-448a-8a0b-f1a77dfff087",
   "metadata": {},
   "source": [
    "Notice that the above code printed out \"x is positive\" when x was equal to 0. If we had put the conditional statement *elif x == 0: print(\"x is zero\")* first in the code block, it would have worked correctly."
   ]
  },
  {
   "cell_type": "markdown",
   "id": "19e0e0b7-46e2-4e55-a97a-ed3ff6ab7387",
   "metadata": {},
   "source": [
    "## **Loops**"
   ]
  },
  {
   "cell_type": "markdown",
   "id": "f70ac98f-2c76-4a25-94dd-dade9e062b5b",
   "metadata": {},
   "source": [
    "There are two types of loops:\n",
    "* For- and while-loops\n",
    "\n",
    "Both execute the same block of code some number of times\n",
    "\n",
    "Both types of loops can be forced to terminate with the command “break”, and to start the next iteration with “continue”"
   ]
  },
  {
   "cell_type": "markdown",
   "id": "e85a92bb-1662-4e8d-b929-d17935467996",
   "metadata": {},
   "source": [
    "### *For-loops*"
   ]
  },
  {
   "cell_type": "markdown",
   "id": "9c759fb9-476b-4891-911a-3ce3784b3c2e",
   "metadata": {},
   "source": [
    "For loops should be used when you know exactly how many times the block should repeat\n",
    "\n",
    "Come in two flavors:\n",
    "* Explicit for loop: “for i in <some iterable>” followed by an indented block (ex. top)\n",
    "* Implicit for loop: occurs within a list comprehension (ex. bottom)\n",
    "* Note that list comprehensions return a list, so you must type-cast to an array if you want to write your program using arrays"
   ]
  },
  {
   "cell_type": "code",
   "execution_count": 62,
   "id": "0355e71c-6578-45f7-ac4d-f7c4b0f2a214",
   "metadata": {},
   "outputs": [
    {
     "name": "stdout",
     "output_type": "stream",
     "text": [
      "0\n",
      "1\n",
      "4\n",
      "9\n",
      "16\n",
      "36\n",
      "49\n"
     ]
    }
   ],
   "source": [
    "# Let's see an example of using a for loop:\n",
    "\n",
    "for i in range(10):\n",
    "    if i == 5: continue\n",
    "    if i == 8: break\n",
    "    print(i**2)"
   ]
  },
  {
   "cell_type": "code",
   "execution_count": 63,
   "id": "234794a6-3e20-4972-8c65-5406e8acd692",
   "metadata": {},
   "outputs": [
    {
     "data": {
      "text/plain": [
       "[0, 1, 4, 9, 16, 25, 36, 49, 64, 81]"
      ]
     },
     "execution_count": 63,
     "metadata": {},
     "output_type": "execute_result"
    }
   ],
   "source": [
    "# Now let's try a list comprehension:\n",
    "\n",
    "[i**2 for i in range(10)]"
   ]
  },
  {
   "cell_type": "markdown",
   "id": "3620223d-aa58-4249-b413-5e38cd1cb612",
   "metadata": {},
   "source": [
    "### *While-loops*"
   ]
  },
  {
   "cell_type": "markdown",
   "id": "81518a05-d666-427c-b7be-22c1bf735b4b",
   "metadata": {},
   "source": [
    "They should be used when you don’t know how many times the block should repeat\n",
    "* You should break this rule when the alternate version is significantly more readable (this is quite universal advice)\n",
    "\n",
    "*while True: <…> break* is not uncommon, but considered bad practice by some\n",
    "* Advantage: The loop will *always* execute at least once. Other languages achieve this with what is called a do-while loop."
   ]
  },
  {
   "cell_type": "code",
   "execution_count": 64,
   "id": "979a54f9-ca35-48ac-8ce6-82ebad3c847b",
   "metadata": {},
   "outputs": [
    {
     "data": {
      "text/plain": [
       "0.5755295046961179"
      ]
     },
     "execution_count": 64,
     "metadata": {},
     "output_type": "execute_result"
    }
   ],
   "source": [
    "# Let's see an example of using a while loop:\n",
    "\n",
    "import numpy as np\n",
    "\n",
    "x = np.random.normal()\n",
    "\n",
    "x"
   ]
  },
  {
   "cell_type": "code",
   "execution_count": 65,
   "id": "060d7991-b2e5-4d3d-a9ca-6153f91adef0",
   "metadata": {},
   "outputs": [],
   "source": [
    "while x < 0:\n",
    "    print(x)\n",
    "    x = np.random.normal()"
   ]
  },
  {
   "cell_type": "code",
   "execution_count": 66,
   "id": "46592746-5ff9-4d7b-8f51-18a0b4656306",
   "metadata": {},
   "outputs": [
    {
     "data": {
      "text/plain": [
       "0.5755295046961179"
      ]
     },
     "execution_count": 66,
     "metadata": {},
     "output_type": "execute_result"
    }
   ],
   "source": [
    "x"
   ]
  },
  {
   "cell_type": "code",
   "execution_count": 67,
   "id": "681df4b7-c362-44ce-b7fa-74fda87a7099",
   "metadata": {},
   "outputs": [
    {
     "name": "stdout",
     "output_type": "stream",
     "text": [
      "0.5755295046961179\n",
      "0.7289995104304066\n"
     ]
    }
   ],
   "source": [
    "while x > 0:\n",
    "    print(x)\n",
    "    x = np.random.normal()"
   ]
  },
  {
   "cell_type": "code",
   "execution_count": 68,
   "id": "e27d2e8c-bdab-4466-95bc-af74b73abd43",
   "metadata": {},
   "outputs": [],
   "source": [
    "x = 0"
   ]
  },
  {
   "cell_type": "code",
   "execution_count": 69,
   "id": "ff6ecae8-f71b-4160-8135-75b7797d08ec",
   "metadata": {},
   "outputs": [],
   "source": [
    "while True:\n",
    "    x += 1\n",
    "    if x > 10:\n",
    "        break"
   ]
  },
  {
   "cell_type": "code",
   "execution_count": 70,
   "id": "ca14dc0a-2996-4bd6-b359-a1510107a3cc",
   "metadata": {},
   "outputs": [
    {
     "data": {
      "text/plain": [
       "11"
      ]
     },
     "execution_count": 70,
     "metadata": {},
     "output_type": "execute_result"
    }
   ],
   "source": [
    "x"
   ]
  },
  {
   "cell_type": "markdown",
   "id": "fe724e5e-b352-422e-84e3-1ad43ce9c81b",
   "metadata": {},
   "source": [
    "## **Functions**"
   ]
  },
  {
   "cell_type": "markdown",
   "id": "f391b821-ad59-49d7-b0cb-e36c409445a8",
   "metadata": {},
   "source": [
    "* Often referred to as “methods” in other languages\n",
    "\n",
    "* Created with the def keyword followed by an indented block. Between the def statement and the body of the function is where you should put a docstring.\n",
    "\n",
    "* Astronomers (and scientists in general) are notorious for thin documentation if they document at all."
   ]
  },
  {
   "cell_type": "code",
   "execution_count": 71,
   "id": "943f1e05-4ab8-4b9a-8584-abee42511273",
   "metadata": {},
   "outputs": [],
   "source": [
    "# Let's define a function:\n",
    "\n",
    "def f(x):\n",
    "    \"\"\"\n",
    "    Calculate the value of x squared.\n",
    "    \n",
    "    Parameters\n",
    "    -----------\n",
    "    x: real number\n",
    "       The number to square\n",
    "\n",
    "    Returns\n",
    "    -----------\n",
    "    y: real number\n",
    "       The value of x squared.\n",
    "    \"\"\"\n",
    "    return x**2"
   ]
  },
  {
   "cell_type": "code",
   "execution_count": 72,
   "id": "681a30aa-19a8-49a2-8837-95ab1bcc6394",
   "metadata": {},
   "outputs": [
    {
     "data": {
      "text/plain": [
       "4"
      ]
     },
     "execution_count": 72,
     "metadata": {},
     "output_type": "execute_result"
    }
   ],
   "source": [
    "f(2)"
   ]
  },
  {
   "cell_type": "code",
   "execution_count": 73,
   "id": "307b0e28-c3ad-491c-9082-9818d507cbea",
   "metadata": {},
   "outputs": [
    {
     "data": {
      "text/plain": [
       "169"
      ]
     },
     "execution_count": 73,
     "metadata": {},
     "output_type": "execute_result"
    }
   ],
   "source": [
    "f(13)"
   ]
  },
  {
   "cell_type": "code",
   "execution_count": 74,
   "id": "094ca80a-3e3f-4e38-822e-0878c041e4ab",
   "metadata": {},
   "outputs": [
    {
     "data": {
      "text/plain": [
       "54.760000000000005"
      ]
     },
     "execution_count": 74,
     "metadata": {},
     "output_type": "execute_result"
    }
   ],
   "source": [
    "f(7.4)"
   ]
  },
  {
   "cell_type": "markdown",
   "id": "ccd224a5-c006-4164-8b55-c6533347e06c",
   "metadata": {},
   "source": [
    "### *Functions: The Implicit Return*"
   ]
  },
  {
   "cell_type": "markdown",
   "id": "25027a88-7d42-400f-80b7-6ddb72fa34ef",
   "metadata": {},
   "source": [
    "Unless otherwise specified, a function will return *None*.\n",
    "\n",
    "In order to obtain an object from a function, you have to override this with a *return* statement\n",
    "\n",
    "A note about variable scope: variables declared inside a function cannot be accessed outside the function. "
   ]
  },
  {
   "cell_type": "code",
   "execution_count": 75,
   "id": "397b79c1-947e-4b47-beea-9dc592a793a2",
   "metadata": {},
   "outputs": [],
   "source": [
    "# Let's look at the implicit return of functions\n",
    "\n",
    "def f(x):\n",
    "    \"\"\"\n",
    "    Calculate the value of x squared\n",
    "    \"\"\"\n",
    "    print(x**2)\n",
    "    # return (or: return None)"
   ]
  },
  {
   "cell_type": "code",
   "execution_count": 76,
   "id": "cde542f4-f954-4d35-9cfc-c6f64e857434",
   "metadata": {},
   "outputs": [
    {
     "name": "stdout",
     "output_type": "stream",
     "text": [
      "4\n"
     ]
    }
   ],
   "source": [
    "x = f(2)"
   ]
  },
  {
   "cell_type": "code",
   "execution_count": 77,
   "id": "34182fa4-2b9f-40a6-8102-fec209acf43f",
   "metadata": {},
   "outputs": [
    {
     "data": {
      "text/plain": [
       "True"
      ]
     },
     "execution_count": 77,
     "metadata": {},
     "output_type": "execute_result"
    }
   ],
   "source": [
    "x is None"
   ]
  },
  {
   "cell_type": "code",
   "execution_count": 78,
   "id": "8b076e47-b0e5-4a2d-bc98-bdb063dc6414",
   "metadata": {},
   "outputs": [],
   "source": [
    "def f(x):\n",
    "    \"\"\"\n",
    "    Calculate the value of x squared\n",
    "    \"\"\"\n",
    "    return x**2"
   ]
  },
  {
   "cell_type": "code",
   "execution_count": 79,
   "id": "0efe9ab6-963b-421f-b481-14ce037e96f5",
   "metadata": {},
   "outputs": [],
   "source": [
    "x = f(2)"
   ]
  },
  {
   "cell_type": "code",
   "execution_count": 80,
   "id": "c333c328-5e5a-4ac7-a55c-4263923b920c",
   "metadata": {},
   "outputs": [
    {
     "data": {
      "text/plain": [
       "False"
      ]
     },
     "execution_count": 80,
     "metadata": {},
     "output_type": "execute_result"
    }
   ],
   "source": [
    "x is None"
   ]
  },
  {
   "cell_type": "code",
   "execution_count": 81,
   "id": "49f67153-1c47-4aa3-b2a6-853d46a31e72",
   "metadata": {},
   "outputs": [
    {
     "data": {
      "text/plain": [
       "4"
      ]
     },
     "execution_count": 81,
     "metadata": {},
     "output_type": "execute_result"
    }
   ],
   "source": [
    "x"
   ]
  },
  {
   "cell_type": "markdown",
   "id": "62edb4f5-3c41-4572-983d-d5bfbff25d34",
   "metadata": {},
   "source": [
    "### *Functions: An Alternative for One-Liners*"
   ]
  },
  {
   "cell_type": "markdown",
   "id": "7febd3ba-80ea-41c9-8e4c-391c414f9f7f",
   "metadata": {},
   "source": [
    "One line function: *lambda*\n",
    "\n",
    "By nature don’t have any error-handling or documentation attached to them, so should only be used when this isn’t necessary – a *lambda* worth documenting is better replaced by a *def* with a one-line *return* and a docstring"
   ]
  },
  {
   "cell_type": "code",
   "execution_count": 82,
   "id": "c9be3fc7-d181-4704-9859-1dc41847d4b5",
   "metadata": {},
   "outputs": [],
   "source": [
    "# Let's try using lambda to define functions\n",
    "\n",
    "f = lambda x: x**2"
   ]
  },
  {
   "cell_type": "code",
   "execution_count": 83,
   "id": "25c7511a-7542-48fb-8f8c-e18430b421c9",
   "metadata": {},
   "outputs": [
    {
     "data": {
      "text/plain": [
       "9"
      ]
     },
     "execution_count": 83,
     "metadata": {},
     "output_type": "execute_result"
    }
   ],
   "source": [
    "f(3)"
   ]
  },
  {
   "cell_type": "code",
   "execution_count": 84,
   "id": "a9ec8da2-6ccd-4011-bd0b-036678ca9a6b",
   "metadata": {},
   "outputs": [
    {
     "data": {
      "text/plain": [
       "16"
      ]
     },
     "execution_count": 84,
     "metadata": {},
     "output_type": "execute_result"
    }
   ],
   "source": [
    "f(4)"
   ]
  },
  {
   "cell_type": "code",
   "execution_count": 85,
   "id": "11c62a7d-62a0-4c49-a6d0-4c7420d1444a",
   "metadata": {},
   "outputs": [],
   "source": [
    "g = lambda x: x.split()"
   ]
  },
  {
   "cell_type": "code",
   "execution_count": 86,
   "id": "00637fbd-966a-4d22-915c-7fd9c6ab903c",
   "metadata": {},
   "outputs": [
    {
     "data": {
      "text/plain": [
       "['An', 'example', 'string']"
      ]
     },
     "execution_count": 86,
     "metadata": {},
     "output_type": "execute_result"
    }
   ],
   "source": [
    "g(\"An example string\")"
   ]
  },
  {
   "cell_type": "markdown",
   "id": "b5c7e82e-1dbf-4419-a5d9-93dea3d0c648",
   "metadata": {},
   "source": [
    "## **File Input/Output**"
   ]
  },
  {
   "cell_type": "markdown",
   "id": "326d8b8a-8dae-4002-aad1-8b7c8fb1e72d",
   "metadata": {},
   "source": [
    "In this section, you will learn:\n",
    "\n",
    "* how to write to a  text file with a standard library\n",
    "* how to read that same text file with a standard library\n",
    "* how NumPy simplifies things"
   ]
  },
  {
   "cell_type": "markdown",
   "id": "d39b19c3-fb1d-41a7-89d1-c224ce670b64",
   "metadata": {},
   "source": [
    "### *An Example Output File*"
   ]
  },
  {
   "cell_type": "markdown",
   "id": "bb2b9ddf-a092-4e9b-b3e1-6c53cdd79247",
   "metadata": {},
   "source": [
    "Let's go through an example of opening a text file and writing information to it. Let's try wrtiing the integers 0 through 9 and their squares sepearated by tabs, with each integer-square pair on seperate lines."
   ]
  },
  {
   "cell_type": "code",
   "execution_count": 89,
   "id": "cc56670c-95a4-457e-bc94-a3ec436847c4",
   "metadata": {},
   "outputs": [],
   "source": [
    "with open(\"example.txt\", \"w\") as f:\n",
    "    for i in range(10):\n",
    "        f.write(str(i))\n",
    "        f.write(\"\\t\")\n",
    "        f.write(str(i**2))\n",
    "        f.write(\"\\n\")"
   ]
  },
  {
   "cell_type": "markdown",
   "id": "4af02f1f-6c6a-4359-8967-b67dc49a13cd",
   "metadata": {},
   "source": [
    "Note: file I/O is typically done with a with statement – this functionally is the same as using  f = open(“example.txt”, ‘w’)"
   ]
  },
  {
   "cell_type": "markdown",
   "id": "e7fd07d3-86b4-4a94-903a-c0ccc2e5374c",
   "metadata": {},
   "source": [
    "### *Better Code for an Example Output File*"
   ]
  },
  {
   "cell_type": "code",
   "execution_count": 90,
   "id": "acbf27e7-0d1a-4b9a-94fb-4cf16b0fa9d8",
   "metadata": {},
   "outputs": [],
   "source": [
    "# That works! But we can try something better:\n",
    "# Makes use of string formatting: %d allows integers to be substituted in their place\n",
    "\n",
    "with open(\"example.txt\", \"w\") as f:\n",
    "    for i in range(10):\n",
    "        f.write(\"%d\\t%d\\n\" % (i, i ** 2))\n"
   ]
  },
  {
   "cell_type": "markdown",
   "id": "fcb25227-707d-4162-a6e0-80725838b45a",
   "metadata": {},
   "source": [
    "There are many ways to format a string in Python: The %-style notation will look familiar if you hav eexperience with C/C++. https://docs.python.org/3.10/library/string.html "
   ]
  },
  {
   "cell_type": "markdown",
   "id": "1dac7b8b-75f5-46ce-89fd-96363496c4ae",
   "metadata": {},
   "source": [
    "### *An Example Input File*"
   ]
  },
  {
   "cell_type": "markdown",
   "id": "11a8e3c5-cf3c-463f-b910-d75343018c0e",
   "metadata": {},
   "source": [
    "Let's read in the same file and store it in a 2D-list!"
   ]
  },
  {
   "cell_type": "code",
   "execution_count": 91,
   "id": "7f5cbfb1-1c93-49af-a8c8-73fd21535a29",
   "metadata": {},
   "outputs": [],
   "source": [
    "# initialize the list\n",
    "x = []\n",
    "\n",
    "# using \"with\" syntax ensures that if there's an error while writing the file,\n",
    "# the file will still be closed.\n",
    "# otherwise, you'd need to end with f.close()\n",
    "with open(\"example.txt\", \"r\") as f:\n",
    "    line = f.readline()\n",
    "    while line != \"\":\n",
    "        x.append([int(i) for i in line.split()])\n",
    "        line = f.readline()"
   ]
  },
  {
   "cell_type": "markdown",
   "id": "013535fc-c3d2-4d03-a48d-260f34fd46a2",
   "metadata": {},
   "source": [
    "Note: Some argue that *append* is a bad idea when lists are larg, but others argue that the performance issues that arose are largely resolved."
   ]
  },
  {
   "cell_type": "markdown",
   "id": "8e2f0bd5-54b3-4a6d-bdc2-62aad64079a3",
   "metadata": {},
   "source": [
    "### *A Much Simpler Approach*"
   ]
  },
  {
   "cell_type": "markdown",
   "id": "cd6b89d0-4cd3-42b4-a540-69865cc305b2",
   "metadata": {},
   "source": [
    "File I/O is made easy with NumPy's *genfromtxt*, *savetxt*, etc. functions\n",
    "\n",
    "These functions read and write 1-D and 2-D data to files.\n",
    "* Caveat: The data must be square. Chances are you’ll get non-square data at some point\n",
    "\n",
    "In the previous example, the entire *with* block can be replaced by:"
   ]
  },
  {
   "cell_type": "code",
   "execution_count": 92,
   "id": "8246dccb",
   "metadata": {},
   "outputs": [
    {
     "data": {
      "text/plain": [
       "array([[ 0.,  0.],\n",
       "       [ 1.,  1.],\n",
       "       [ 2.,  4.],\n",
       "       [ 3.,  9.],\n",
       "       [ 4., 16.],\n",
       "       [ 5., 25.],\n",
       "       [ 6., 36.],\n",
       "       [ 7., 49.],\n",
       "       [ 8., 64.],\n",
       "       [ 9., 81.]])"
      ]
     },
     "execution_count": 92,
     "metadata": {},
     "output_type": "execute_result"
    }
   ],
   "source": [
    "import numpy as np\n",
    "x = np.genfromtxt(\"example.txt\")\n",
    "x"
   ]
  },
  {
   "cell_type": "markdown",
   "id": "b78c2c92",
   "metadata": {},
   "source": [
    "*(Note however this returns a NumPy array, not a list)*"
   ]
  }
 ],
 "metadata": {
  "kernelspec": {
   "display_name": "base",
   "language": "python",
   "name": "python3"
  },
  "language_info": {
   "codemirror_mode": {
    "name": "ipython",
    "version": 3
   },
   "file_extension": ".py",
   "mimetype": "text/x-python",
   "name": "python",
   "nbconvert_exporter": "python",
   "pygments_lexer": "ipython3",
   "version": "3.12.2"
  }
 },
 "nbformat": 4,
 "nbformat_minor": 5
}
