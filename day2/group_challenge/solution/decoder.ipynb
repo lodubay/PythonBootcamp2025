{
 "cells": [
  {
   "cell_type": "markdown",
   "id": "6aef68a5",
   "metadata": {},
   "source": [
    "Step 1: make dictionary"
   ]
  },
  {
   "cell_type": "code",
   "execution_count": null,
   "id": "b51d06d3",
   "metadata": {
    "vscode": {
     "languageId": "plaintext"
    }
   },
   "outputs": [],
   "source": [
    "with open('key.txt', 'r') as f:\n",
    "    "
   ]
  },
  {
   "cell_type": "markdown",
   "id": "fad6e488",
   "metadata": {},
   "source": []
  }
 ],
 "metadata": {
  "language_info": {
   "name": "python"
  }
 },
 "nbformat": 4,
 "nbformat_minor": 5
}
