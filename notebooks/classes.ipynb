{
 "cells": [
  {
   "cell_type": "markdown",
   "id": "8afa5d3f",
   "metadata": {},
   "source": [
    "# Classes in Python\n",
    "\n",
    "## What are they? Why should I care?\n",
    "\n",
    "A *class* is how you implement a new object.\n",
    "\n",
    "Python is an **object-oriented** language - if you're a Python programmer and you've never written a class, you're missing out on the single most powerful aspect of the language by far.\n",
    "\n",
    "## The Python Model\n",
    "\n",
    " Everything is an object in Python, whether you knew it or not.\n",
    "\n",
    "Objects have:\n",
    "* Attributes\n",
    "* Functions\n",
    "* Data\n",
    "which are unique to the object. Objects can also interact with other objects.\n",
    "\n",
    "## Data Containers\n",
    "\n",
    "The simplest object is a \"data container\" - all it does is hold onto the attributes that you give it.\n",
    "\n",
    "`class container: pass` is all you need.\n",
    "(You can call the class anything, it doesn't need to be called \"container\".)\n",
    "\n",
    "The argument `pass` here means \"do nothing\". Objects with more specialization will instead have `def` statements within them."
   ]
  },
  {
   "cell_type": "code",
   "execution_count": 1,
   "id": "928e647d",
   "metadata": {},
   "outputs": [],
   "source": [
    "# the most basic class\n",
    "class container:\n",
    "    pass"
   ]
  },
  {
   "cell_type": "markdown",
   "id": "58bf5143",
   "metadata": {},
   "source": [
    "Once you define your class, you need to initialize an *instance* of the class by calling it before you can use it."
   ]
  },
  {
   "cell_type": "code",
   "execution_count": 2,
   "id": "564822dc",
   "metadata": {},
   "outputs": [],
   "source": [
    "x = container()"
   ]
  },
  {
   "cell_type": "markdown",
   "id": "97d341c0",
   "metadata": {},
   "source": [
    "Now we can add data to our container."
   ]
  },
  {
   "cell_type": "code",
   "execution_count": 5,
   "id": "15758d01",
   "metadata": {},
   "outputs": [
    {
     "data": {
      "text/plain": [
       "array([1.3493949 , 0.3256582 , 0.34591288, 0.32758094, 1.04764811,\n",
       "       1.45923059, 0.84951801, 0.47038119, 0.03167624, 0.51111944])"
      ]
     },
     "execution_count": 5,
     "metadata": {},
     "output_type": "execute_result"
    }
   ],
   "source": [
    "# numpy only needed to generate the data, not for the class\n",
    "import numpy as np\n",
    "\n",
    "# randomly generate an array of 10 masses (enforce positive)\n",
    "x.masses = abs(np.random.normal(size=10))\n",
    "\n",
    "x.radii = abs(np.random.normal(size = 10))\n",
    "\n",
    "x.luminosities = abs(np.random.normal(size = 10))\n",
    "\n",
    "# demonstrate that the container has stored the information\n",
    "x.masses"
   ]
  },
  {
   "cell_type": "markdown",
   "id": "3064cca0",
   "metadata": {},
   "source": [
    "The ``<name>.<attribute>`` syntax is going to keep coming back - it's how you access attributes and functions associated with specific objects.\n",
    "\n",
    "## Example Object: A Dog\n",
    "\n",
    "* Attributes: color, breed, name, genter\n",
    "* Functions: bark, roll over, shake, eat, drink, chase their tail\n",
    "* Data: date of birth, vet records, previous owners\n",
    "* Interactions with other objects: play with other dogs/owner, chase cats\n",
    "\n",
    "How you create instances of the class (i.e., objects) is determined by the `__init__` function.\n",
    "\n",
    "The first argument to `__init__` should always be *self* - this is true of most functions in a class, and refers to the object itself being passed to the function as an argument."
   ]
  },
  {
   "cell_type": "code",
   "execution_count": 6,
   "id": "27d8a62f",
   "metadata": {},
   "outputs": [],
   "source": [
    "class dog:\n",
    "    \"\"\"\n",
    "    Implements a dog in Python\n",
    "    \"\"\"\n",
    "    def __init__(self, name, breed):\n",
    "        # Take a parameter passed when the class is called\n",
    "        # and turn it into an attribute\n",
    "        self.name = name\n",
    "        self.breed = breed"
   ]
  },
  {
   "cell_type": "code",
   "execution_count": 7,
   "id": "3bc6928e",
   "metadata": {},
   "outputs": [
    {
     "name": "stdout",
     "output_type": "stream",
     "text": [
      "Spot\n",
      "Dalmation\n"
     ]
    }
   ],
   "source": [
    "# Initialize an instance for Spot\n",
    "Spot = dog(\"Spot\", \"Dalmation\")\n",
    "print(Spot.name)\n",
    "print(Spot.breed)"
   ]
  },
  {
   "cell_type": "code",
   "execution_count": 8,
   "id": "4fee237e",
   "metadata": {},
   "outputs": [
    {
     "name": "stdout",
     "output_type": "stream",
     "text": [
      "Snoopy\n",
      "Beagle\n"
     ]
    }
   ],
   "source": [
    "# Initialize a different instance for Snoopy\n",
    "Snoopy = dog(\"Snoopy\", \"Beagle\")\n",
    "print(Snoopy.name)\n",
    "print(Snoopy.breed)"
   ]
  },
  {
   "cell_type": "markdown",
   "id": "3029226c",
   "metadata": {},
   "source": [
    "This gets the job done, but it's easily broken: we can provide any variable type for the class inputs, not just a string."
   ]
  },
  {
   "cell_type": "code",
   "execution_count": 9,
   "id": "ad3d05ff",
   "metadata": {},
   "outputs": [
    {
     "name": "stdout",
     "output_type": "stream",
     "text": [
      "3\n",
      "[0, 3, 7]\n"
     ]
    }
   ],
   "source": [
    "Snoopy.name = 3\n",
    "Snoopy.breed = [0, 3, 7]\n",
    "\n",
    "print(Snoopy.name)\n",
    "print(Snoopy.breed)"
   ]
  },
  {
   "cell_type": "markdown",
   "id": "1b5cb781",
   "metadata": {},
   "source": [
    "Error handling of attributes requires *property* and *setter* functions.\n",
    "\n",
    "`self._property` is a conventional way of storing `self.property` under the hood, protected by error-handling. Python doesn't distinguish between public and private variables, so the leading underscore is a way to let the user know that they shouldn't be accessing that attribute directly.\n",
    "\n",
    "The following code throws a `TypeError` whenever the user tries to set `name` or `breed` to something other than a string.\n",
    "\n",
    "Note: anything with an `@` tag, like `@property`, is called a \"decorator\"."
   ]
  },
  {
   "cell_type": "code",
   "execution_count": 10,
   "id": "67e4321a",
   "metadata": {},
   "outputs": [],
   "source": [
    "class dog:\n",
    "    \"\"\"\n",
    "    Implements a dog in Python\n",
    "    \"\"\"\n",
    "    def __init__(self, name, breed):\n",
    "        self.name = name\n",
    "        self.breed = breed\n",
    "    \n",
    "    # This function defines what happens when someone calls, e.g.,\n",
    "    # Snoopy.name\n",
    "    @property\n",
    "    def name(self):\n",
    "        \"\"\"\n",
    "        Type: str\n",
    "        \n",
    "        The name of the dog\n",
    "        \"\"\"\n",
    "        return self._name\n",
    "    \n",
    "    # This function defines what happens when someone tries to set `name`\n",
    "    # to a new value, e.g.\n",
    "    # Snoopy.name = <value>\n",
    "    @name.setter\n",
    "    def name(self, value):\n",
    "        # Check if the variable is actually a string\n",
    "        if isinstance(value, str):\n",
    "            # If it is, we allow the name attribute to be changed\n",
    "            self._name = value\n",
    "        else:\n",
    "            # If it isn't, raise an error!\n",
    "            raise TypeError(f\"Attribute 'name' must be a string. Got: {type(value)}\")\n",
    "    \n",
    "    @property\n",
    "    def breed(self):\n",
    "        \"\"\"\n",
    "        Type: str\n",
    "\n",
    "        The breed of the dog.\n",
    "        \"\"\"\n",
    "        return self._breed\n",
    "    \n",
    "    @breed.setter\n",
    "    def breed(self, value):\n",
    "        if isinstance(value, str):\n",
    "            self._breed = value\n",
    "        else:\n",
    "            # Note: this is an \"f-string\" which allows us to access the value of a variable\n",
    "            raise TypeError(f\"Attribute 'breed' must be a string. Got: {type(value)}\")"
   ]
  },
  {
   "cell_type": "markdown",
   "id": "34d2d6af",
   "metadata": {},
   "source": [
    "Now we can see how our class behaves with proper error handling! Try setting `Snoopy.name` and `Snoopy.breed` to something other than a string and see what happens."
   ]
  },
  {
   "cell_type": "code",
   "execution_count": null,
   "id": "d38d8721",
   "metadata": {},
   "outputs": [
    {
     "name": "stdout",
     "output_type": "stream",
     "text": [
      "Snoopy\n",
      "Beagle\n"
     ]
    }
   ],
   "source": [
    "Snoopy = dog(\"Snoopy\", \"Beagle\")\n",
    "print(Snoopy.name)\n",
    "print(Snoopy.breed)\n",
    "Snoopy.name = "
   ]
  },
  {
   "cell_type": "code",
   "execution_count": null,
   "id": "25c3eee9",
   "metadata": {},
   "outputs": [],
   "source": [
    "Snoopy.breed = "
   ]
  },
  {
   "cell_type": "markdown",
   "id": "c49d9673",
   "metadata": {},
   "source": [
    "Another important note is that there is no special connection between a property, like `self.x`, and an attribute with stored data, like `self._x`. The similarity of the names is simply a convention. You have to define the relationship so that the property references the data, like we did above.\n",
    "\n",
    "In this example, the values of certain properties are calculated \"on the fly\" based on just one value which is actually stored as internal data."
   ]
  },
  {
   "cell_type": "code",
   "execution_count": 12,
   "id": "2cd4feab",
   "metadata": {},
   "outputs": [],
   "source": [
    "class example:\n",
    "    def __init__(self, value):\n",
    "        # The stored data\n",
    "        self._value = value\n",
    "    \n",
    "    # The property that returns the stored data\n",
    "    @property\n",
    "    def value(self):\n",
    "        return self._value\n",
    "    \n",
    "    # A property that calculates a value on the fly based on the data\n",
    "    @property\n",
    "    def onemore(self):\n",
    "        return self._value + 1"
   ]
  },
  {
   "cell_type": "code",
   "execution_count": 15,
   "id": "ccd57ef5",
   "metadata": {},
   "outputs": [
    {
     "name": "stdout",
     "output_type": "stream",
     "text": [
      "4\n",
      "4\n",
      "5\n"
     ]
    }
   ],
   "source": [
    "x = example(4)\n",
    "print(x._value) # it's usually not good practice to access this directly \n",
    "print(x.value)\n",
    "print(x.onemore)"
   ]
  },
  {
   "cell_type": "markdown",
   "id": "df620844",
   "metadata": {},
   "source": []
  }
 ],
 "metadata": {
  "kernelspec": {
   "display_name": "base",
   "language": "python",
   "name": "python3"
  },
  "language_info": {
   "codemirror_mode": {
    "name": "ipython",
    "version": 3
   },
   "file_extension": ".py",
   "mimetype": "text/x-python",
   "name": "python",
   "nbconvert_exporter": "python",
   "pygments_lexer": "ipython3",
   "version": "3.12.2"
  }
 },
 "nbformat": 4,
 "nbformat_minor": 5
}
