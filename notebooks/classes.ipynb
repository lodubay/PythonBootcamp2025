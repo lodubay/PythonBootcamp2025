{
 "cells": [
  {
   "cell_type": "markdown",
   "id": "8afa5d3f",
   "metadata": {},
   "source": [
    "# Classes in Python\n",
    "\n",
    "## What are they? Why should I care?\n",
    "\n",
    "A *class* is how you implement a new object.\n",
    "\n",
    "Python is an **object-oriented** language - if you're a Python programmer and you've never written a class, you're missing out on the single most powerful aspect of the language by far.\n",
    "\n",
    "## The Python Model\n",
    "\n",
    " Everything is an object in Python, whether you knew it or not.\n",
    "\n",
    "Objects have:\n",
    "* Attributes\n",
    "* Functions\n",
    "* Data\n",
    "which are unique to the object. Objects can also interact with other objects.\n",
    "\n",
    "## Data Containers\n",
    "\n",
    "The simplest object is a \"data container\" - all it does is hold onto the attributes that you give it.\n",
    "\n",
    "`class container: pass` is all you need.\n",
    "(You can call the class anything, it doesn't need to be called \"container\".)\n",
    "\n",
    "The argument `pass` here means \"do nothing\". Objects with more specialization will instead have `def` statements within them."
   ]
  },
  {
   "cell_type": "code",
   "execution_count": null,
   "id": "928e647d",
   "metadata": {},
   "outputs": [],
   "source": [
    "# numpy only needed to generate the data, not for the class\n",
    "import numpy as np\n",
    "\n",
    "# the most basic class\n",
    "class container:\n",
    "    pass"
   ]
  },
  {
   "cell_type": "code",
   "execution_count": null,
   "id": "564822dc",
   "metadata": {},
   "outputs": [],
   "source": []
  }
 ],
 "metadata": {
  "kernelspec": {
   "display_name": "base",
   "language": "python",
   "name": "python3"
  },
  "language_info": {
   "name": "python",
   "version": "3.12.2"
  }
 },
 "nbformat": 4,
 "nbformat_minor": 5
}
