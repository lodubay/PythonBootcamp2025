{
 "cells": [
  {
   "cell_type": "code",
   "execution_count": 1,
   "id": "e8f4893d-ffb5-406e-916d-a7be8b55f801",
   "metadata": {},
   "outputs": [],
   "source": [
    "import numpy as np\n",
    "import matplotlib.pyplot as plt\n",
    "from astropy.io import fits"
   ]
  },
  {
   "cell_type": "markdown",
   "id": "5cbf7afa-4e2a-485b-9183-8ede5109b487",
   "metadata": {},
   "source": [
    "# Intro to FITS Files"
   ]
  },
  {
   "cell_type": "code",
   "execution_count": 2,
   "id": "6ea18372-ae2e-4e7b-83e8-58cc3ff33fc7",
   "metadata": {},
   "outputs": [],
   "source": [
    "butterfly_nebula = \"butterfly_nebula_hubble.fits.gz\" #path to file "
   ]
  },
  {
   "cell_type": "code",
   "execution_count": 3,
   "id": "628de956-190f-4abb-ba8c-1b53a0a38860",
   "metadata": {},
   "outputs": [
    {
     "name": "stdout",
     "output_type": "stream",
     "text": [
      "Filename: butterfly_nebula_hubble.fits.gz\n",
      "No.    Name      Ver    Type      Cards   Dimensions   Format\n",
      "  0  PRIMARY       1 PrimaryHDU     580   (5600, 4200, 3)   float32   \n"
     ]
    }
   ],
   "source": [
    "fits.info(butterfly_nebula) #gives you information about the fits file "
   ]
  },
  {
   "cell_type": "code",
   "execution_count": 4,
   "id": "8ee3856e-e9cc-4b5e-b51d-4120fe831ed5",
   "metadata": {},
   "outputs": [
    {
     "name": "stdout",
     "output_type": "stream",
     "text": [
      "SIMPLE  =                    T / file does conform to FITS standard             BITPIX  =                  -32 / number of bits per data pixel                  NAXIS   =                    3 / number of data axes                            NAXIS1  =                 5600 / length of data axis 1                          NAXIS2  =                 4200 / length of data axis 2                          NAXIS3  =                    3 / length of data axis 3                          EXTEND  =                    T / FITS dataset may contain extensions            COMMENT   FITS (Flexible Image Transport System) format is defined in 'AstronomyCOMMENT   and Astrophysics', volume 376, page 359; bibcode: 2001A&A...376..359H DATE    = '2025-05-05T03:27:58' / file creation date (YYYY-MM-DDThh:mm:ss UT)   OBJECT  = 'NGC 6302 in S II'   / Name of the object observed                    ORIGIN  = 'NOAO-IRAF FITS Image Kernel July 2003' / FITS file originator        IRAF-TLM= '17:16:44 (03/09/2009)' / Time of last modification                   NEXTEND =                    0 / Number of standard extensions                  FILENAME= 'ngc6302_wfc3_f673n_drz_sci.fits' / name of file                      FILETYPE= 'SCI      '          / type of data found in data file                                                                                                TELESCOP= 'HST'                / telescope used to acquire data                 INSTRUME= 'WFC3  '             / identifier for instrument used to acquire data EQUINOX =               2000.0 / equinox of celestial coord. system                                                                                                           / DATA DESCRIPTION KEYWORDS                                                                                                                       ROOTNAME= 'ngc6302_wfc3_f673n' / rootname of the observation set                IMAGETYP= 'EXT               ' / type of exposure identifier                    PRIMESI = 'WFC3  '             / instrument designated as prime                                                                                                               / TARGET INFORMATION                                                                                                                              TARGNAME= 'NGC-6302-V2                   ' / proposer's target name             RA_TARG =   2.584312254167E+02 / right ascension of the target (deg) (J2000)    DEC_TARG=  -3.710384166667E+01 / declination of the target (deg) (J2000)                                                                                                      / PROPOSAL INFORMATION                                                                                                                            PROPOSID=                11504 / PEP proposal identifier                        LINENUM = '02.001         '    / proposal logsheet line number                  PR_INV_L= 'Noll                          ' / last name of principal investigatorPR_INV_F= 'Keith               ' / first name of principal investigator         PR_INV_M= 'S.                  ' / middle name / initial of principal investigat                                                                                              / EXPOSURE INFORMATION                                                                                                                            SUNANGLE=           134.504150 / angle between sun and V1 axis                  MOONANGL=            65.761185 / angle between moon and V1 axis                 SUN_ALT =            48.138557 / altitude of the sun above Earth's limb         FGSLOCK = 'FINE              ' / commanded FGS lock (FINE,COARSE,GYROS,UNKNOWN) GYROMODE= 'T'                  / number of gyros scheduled for observation      REFFRAME= 'ICRS    '           / guide star catalog version                                                                                                     DATE-OBS= '2009-07-27'         / UT date of start of observation (yyyy-mm-dd)   TIME-OBS= '06:38:13'           / UT time of start of observation (hh:mm:ss)     EXPSTART=       55039.27654649 / exposure start time (Modified Julian Date)     EXPEND  =       55039.36621073 / exposure end time (Modified Julian Date)       EXPTIME =               5200.0 / exposure duration (seconds)--calculated        EXPFLAG = 'NORMAL       '      / Exposure interruption indicator                QUALCOM1= '                                                                    'QUALCOM2= '                                                                    'QUALCOM3= '                                                                    'QUALITY = '                                                                    '                                                                                                                                                                              / POINTING INFORMATION                                                                                                                            PA_V3   =           260.001404 / position angle of V3-axis of HST (deg)                                                                                                       / TARGET OFFSETS (POSTARGS)                                                                                                                       POSTARG1=             0.000000 / POSTARG in axis 1 direction                    POSTARG2=             0.000000 / POSTARG in axis 2 direction                                                                                                                  / DIAGNOSTIC KEYWORDS                                                                                                                             OPUS_VER= 'OPUS 2009_2k      ' / OPUS software system version number            CAL_VER = '1.6 (17-Aug-2009)'  / CALWF3 code version                            PROCTIME=   5.507105302083E+04 / Pipeline processing time (MJD)                                                                                                               / SCIENCE INSTRUMENT CONFIGURATION                                                                                                                OBSTYPE = 'IMAGING       '     / observation type - imaging or spectroscopic    OBSMODE = 'ACCUM     '         / operating mode                                 CTEIMAGE= '    '               / type of Charge Transfer Image, if applicable   SCLAMP  = 'NONE          '     / lamp status, NONE or name of lamp which is on  NRPTEXP =                    1 / number of repeat exposures in set: default 1   SUBARRAY=                    F / data from a subarray (T) or full frame (F)     DETECTOR= 'UVIS'               / detector in use: UVIS or IR                    FILTER  = 'F673N  '            / element selected from filter wheel             APERTURE= 'UVIS-CENTER     '   / aperture name                                  PROPAPER= '                '   / proposed aperture name                         DIRIMAGE= 'NONE     '          / direct image for grism or prism exposure       CTEDIR  = 'NONE    '           / CTE measurement direction: serial or parallel  CRSPLIT =                    1 / number of cosmic ray split exposures                                                                                                         / CALIBRATION SWITCHES: PERFORM, OMIT, COMPLETE, SKIPPED                                                                                          WRTERR  =                    T / write out error array extension                DQICORR = 'COMPLETE'           / data quality initialization                    ATODCORR= 'OMIT    '           / correct for A to D conversion errors           BLEVCORR= 'COMPLETE'           / subtract bias level computed from overscan     BIASCORR= 'COMPLETE'           / Subtract bias image                            FLSHCORR= 'OMIT    '           / post flash correction                          CRCORR  = 'OMIT    '           / combine observations to reject cosmic rays     EXPSCORR= 'COMPLETE'           / process individual observations after cr-rejectSHADCORR= 'OMIT    '           / apply shutter shading correction               DARKCORR= 'COMPLETE'           / Subtract dark image                            FLATCORR= 'COMPLETE'           / flat field data                                PHOTCORR= 'COMPLETE'           / populate photometric header keywords           DRIZCORR= 'COMPLETE'           / drizzle processing                                                                                                                           / CALIBRATION REFERENCE FILES                                                                                                                     BPIXTAB = 'iref$t2c1533si_bpx.fits' / bad pixel table                           CCDTAB  = 'iref$t291659mi_ccd.fits' / detector calibration parameters           ATODTAB = 'iref$n9n16196i_a2d.fits' / analog to digital correction file         OSCNTAB = 'iref$q911321oi_osc.fits' / detector overscan table                   BIASFILE= 'b09061275_bia.fits' / bias image file name                           FLSHFILE= 'N/A                    ' / post flash correction file name           CRREJTAB= 'iref$n9i1435li_crr.fits' / cosmic ray rejection parameters           SHADFILE= 'N/A                    ' / shutter shading correction file           DARKFILE= 'iref$t3420177i_drk.fits' / dark image file name                      PFLTFILE= 'iref$t4t18334i_pfl.fits' / pixel to pixel flat field file name       DFLTFILE= 'N/A                    ' / delta flat field file name                LFLTFILE= 'N/A                    ' / low order flat                            GRAPHTAB= 'mtab$t2605492m_tmg.fits' / the HST graph table                       COMPTAB = 'mtab$t8h1822tm_tmc.fits' / the HST components table                  IDCTAB  = '/Volumes/data/iref/vera0803_idc.fits' / image distortion correction tDGEOFILE= 'N/A               ' / Distortion correction image                    MDRIZTAB= 'iref$sau1931ai_mdz.fits' / MultiDrizzle parameter table                                                                                                            / COSMIC RAY REJECTION ALGORITHM PARAMETERS                                                                                                       MEANEXP =                  0.0 / reference exposure time for parameters         SCALENSE=                  0.0 / multiplicative scale factor applied to noise   INITGUES= '   '                / initial guess method (MIN or MED)              SKYSUB  = '    '               / sky value subtracted (MODE or NONE)            SKYSUM  =                  0.0 / sky level from the sum of all constituent imageCRSIGMAS= '               '    / statistical rejection criteria                 CRRADIUS=                  0.0 / rejection propagation radius (pixels)          CRTHRESH=             0.000000 / rejection propagation threshold                BADINPDQ=                    0 / data quality flag bits to reject               REJ_RATE=                  0.0 / rate at which pixels are affected by cosmic rayCRMASK  =                    F / flag CR-rejected pixels in input files (T/F)   MDRIZSKY=                  0.0 / Sky value computed by MultiDrizzle                                                                                                           / POST FLASH PARAMETERS                                                                                                                           FLASHDUR=                  0.0 / Exposure time in seconds: 0.1 to 409.5         FLASHCUR= 'ZeroCur'            / Post flash current (zero, low, medium, high)   FLASHSTA= 'NOT PERFORMED   '   / Status: SUCCESSFUL, ABORTED, NOT PERFORMED     SHUTRPOS= 'B    '              / Shutter position: A or B                                                                                                                     / CHARGE INJECTION PARAMETERS                                     CHINJECT= 'NONE    '           / Charge Injection Mode                                                                                                                        / OTFR KEYWORDS                                                                                                                                   T_SGSTAR= '                  ' / OMS calculated guide star control                                                                                                            / PATTERN KEYWORDS                                                                                                                                PATTERN1= 'WFC3-UVIS-DITHER-LINE   ' / primary pattern type                     P1_SHAPE= 'LINE              ' / primary pattern shape                          P1_PURPS= 'DITHER    '         / primary pattern purpose                        P1_NPTS =                    4 / number of points in primary pattern            P1_PSPAC=                  2.4 / point spacing for primary pattern (arc-sec)    P1_LSPAC=             0.000000 / line spacing for primary pattern (arc-sec)     P1_ANGLE=             0.000000 / angle between sides of parallelogram patt (deg)P1_FRAME= 'POS-TARG '          / coordinate frame of primary pattern            P1_ORINT=                 90.0 / orientation of pattern to coordinate frame (degP1_CENTR= 'NO '                / center pattern relative to pointing (yes/no)   PATTSTEP=                    1 / position number of this point in the pattern                                                                                                 / ENGINEERING PARAMETERS                                                                                                                          CCDAMP  = 'ABCD'               / CCD Amplifier Readout Configuration            CCDGAIN =                  1.5 / commanded gain of CCD                          CCDOFSTA=                    3 / commanded CCD bias offset for amplifier A      CCDOFSTB=                    3 / commanded CCD bias offset for amplifier B      CCDOFSTC=                    3 / commanded CCD bias offset for amplifier C      CCDOFSTD=                    3 / commanded CCD bias offset for amplifier D                                                                                                    / CALIBRATED ENGINEERING PARAMETERS                                                                                                               ATODGNA =        1.5599999E+00 / calibrated gain for amplifier A                ATODGNB =        1.5599999E+00 / calibrated gain for amplifier B                ATODGNC =        1.5599999E+00 / calibrated gain for amplifier C                ATODGND =        1.5599999E+00 / calibrated gain for amplifier D                READNSEA=        3.0300000E+00 / calibrated read noise for amplifier A          READNSEB=        3.1300001E+00 / calibrated read noise for amplifier B          READNSEC=        3.0799999E+00 / calibrated read noise for amplifier C          READNSED=        3.1800001E+00 / calibrated read noise for amplifier D          BIASLEVA=        2.5555732E+03 / bias level for amplifier A                     BIASLEVB=        2.5430049E+03 / bias level for amplifier B                     BIASLEVC=        2.5034546E+03 / bias level for amplifier C                     BIASLEVD=        2.6057598E+03 / bias level for amplifier D                                                                                                                   / ASSOCIATION KEYWORDS                                                                                                                            ASN_ID  = 'IACO02010 '         / unique identifier assigned to association      ASN_TAB = 'iaco02010_asn.fits     ' / name of the association table             ASN_MTYP= 'PROD-DTH'           / Role of the Member in the Association          NDRIZIM =                    8 / Drizzle, No. images drizzled onto output       D001VER = 'Callable DRIZZLE Version 0.7 (4th Apr 2005) ' / Drizzle, task versionD001GEOM= 'User parameters'    / Drizzle, source of geometric information       D001DATA= 'iaco02b0q_flt.fits[sci,1]' / Drizzle, input data image               D001DEXP=               1300.0 / Drizzle, input image exposure time (s)         D001OUDA= 'ngc6302_wfc3_f673n_drz_sci.fits' / Drizzle, output data image        D001OUWE= 'ngc6302_wfc3_f673n_drz_weight.fits' / Drizzle, output weighting imageD001OUCO= '' / Drizzle, output context image                                    D001MASK= 'iaco02b0q_flt_final_mask1.fits' / Drizzle, input weighting image     D001WTSC=               1300.0 / Drizzle, weighting factor for input image      D001KERN= 'square  '           / Drizzle, form of weight distribution kernel    D001PIXF=                  1.0 / Drizzle, linear size of drop                   D001COEF= 'iaco02b0q_flt_coeffs2.dat' / Drizzle, coefficients file name         D001XGIM= '' / Drizzle, X distortion image name                                 D001YGIM= '' / Drizzle, Y distortion image name                                 D001LAM =    676.5939900000001 / Drizzle, wavelength applied for transformation D001SCAL=   0.9999956803674432 / Drizzle, scale (pixel size) of output image    D001ROT =         -89.99923192 / Drizzle, rotation angle, degrees anticlockwise D001XSH =   -164.0714870040201 / Drizzle, X shift applied                       D001YSH =   -96.67511590711297 / Drizzle, Y shift applied                       D001SFTU= 'output  '           / Drizzle, units used for shifts                 D001SFTF= 'output  '           / Drizzle, frame in which shifts were applied    D001EXKY= 'EXPTIME '           / Drizzle, exposure keyword name in input image  D001INUN= 'counts  '           / Drizzle, units of input image - counts or cps  D001OUUN= 'cps     '           / Drizzle, units of output image - counts or cps D001FVAL= '0.0     '           / Drizzle, fill value for zero weight output pix D001INXC=               2048.5 / Drizzle, reference center of input image (X)   D001INYC=               1025.5 / Drizzle, reference center of input image (Y)   D001OUXC=               2800.5 / Drizzle, reference center of output image (X)  D001OUYC=               2100.5 / Drizzle, reference center of output image (Y)  D002VER = 'Callable DRIZZLE Version 0.7 (4th Apr 2005) ' / Drizzle, task versionD002GEOM= 'User parameters'    / Drizzle, source of geometric information       D002DATA= 'iaco02b0q_flt.fits[sci,2]' / Drizzle, input data image               D002DEXP=               1300.0 / Drizzle, input image exposure time (s)         D002OUDA= 'ngc6302_wfc3_f673n_drz_sci.fits' / Drizzle, output data image        D002OUWE= 'ngc6302_wfc3_f673n_drz_weight.fits' / Drizzle, output weighting imageD002OUCO= '' / Drizzle, output context image                                    D002MASK= 'iaco02b0q_flt_final_mask2.fits' / Drizzle, input weighting image     D002WTSC=               1300.0 / Drizzle, weighting factor for input image      D002KERN= 'square  '           / Drizzle, form of weight distribution kernel    D002PIXF=                  1.0 / Drizzle, linear size of drop                   D002COEF= 'iaco02b0q_flt_coeffs1.dat' / Drizzle, coefficients file name         D002XGIM= '' / Drizzle, X distortion image name                                 D002YGIM= '' / Drizzle, Y distortion image name                                 D002LAM =            676.59604 / Drizzle, wavelength applied for transformation D002SCAL=   0.9999955524712125 / Drizzle, scale (pixel size) of output image    D002ROT =         -89.99923164 / Drizzle, rotation angle, degrees anticlockwise D002XSH =    -164.077152145685 / Drizzle, X shift applied                       D002YSH =   -96.66822528147736 / Drizzle, Y shift applied                       D002SFTU= 'output  '           / Drizzle, units used for shifts                 D002SFTF= 'output  '           / Drizzle, frame in which shifts were applied    D002EXKY= 'EXPTIME '           / Drizzle, exposure keyword name in input image  D002INUN= 'counts  '           / Drizzle, units of input image - counts or cps  D002OUUN= 'cps     '           / Drizzle, units of output image - counts or cps D002FVAL= '0.0     '           / Drizzle, fill value for zero weight output pix D002INXC=               2048.5 / Drizzle, reference center of input image (X)   D002INYC=               1025.5 / Drizzle, reference center of input image (Y)   D002OUXC=               2800.5 / Drizzle, reference center of output image (X)  D002OUYC=               2100.5 / Drizzle, reference center of output image (Y)  D003VER = 'Callable DRIZZLE Version 0.7 (4th Apr 2005) ' / Drizzle, task versionD003GEOM= 'User parameters'    / Drizzle, source of geometric information       D003DATA= 'iaco02b9q_flt.fits[sci,1]' / Drizzle, input data image               D003DEXP=               1300.0 / Drizzle, input image exposure time (s)         D003OUDA= 'ngc6302_wfc3_f673n_drz_sci.fits' / Drizzle, output data image        D003OUWE= 'ngc6302_wfc3_f673n_drz_weight.fits' / Drizzle, output weighting imageD003OUCO= '' / Drizzle, output context image                                    D003MASK= 'iaco02b9q_flt_final_mask1.fits' / Drizzle, input weighting image     D003WTSC=               1300.0 / Drizzle, weighting factor for input image      D003KERN= 'square  '           / Drizzle, form of weight distribution kernel    D003PIXF=                  1.0 / Drizzle, linear size of drop                   D003COEF= 'iaco02b9q_flt_coeffs2.dat' / Drizzle, coefficients file name         D003XGIM= '' / Drizzle, X distortion image name                                 D003YGIM= '' / Drizzle, Y distortion image name                                 D003LAM =    676.5939900000001 / Drizzle, wavelength applied for transformation D003SCAL=    0.999995683448605 / Drizzle, scale (pixel size) of output image    D003ROT =         -89.99933657 / Drizzle, rotation angle, degrees anticlockwise D003XSH =   -224.0715551202547 / Drizzle, X shift applied                       D003YSH =   -96.53208258639506 / Drizzle, Y shift applied                       D003SFTU= 'output  '           / Drizzle, units used for shifts                 D003SFTF= 'output  '           / Drizzle, frame in which shifts were applied    D003EXKY= 'EXPTIME '           / Drizzle, exposure keyword name in input image  D003INUN= 'counts  '           / Drizzle, units of input image - counts or cps  D003OUUN= 'cps     '           / Drizzle, units of output image - counts or cps D003FVAL= '0.0     '           / Drizzle, fill value for zero weight output pix D003INXC=               2048.5 / Drizzle, reference center of input image (X)   D003INYC=               1025.5 / Drizzle, reference center of input image (Y)   D003OUXC=               2800.5 / Drizzle, reference center of output image (X)  D003OUYC=               2100.5 / Drizzle, reference center of output image (Y)  D004VER = 'Callable DRIZZLE Version 0.7 (4th Apr 2005) ' / Drizzle, task versionD004GEOM= 'User parameters'    / Drizzle, source of geometric information       D004DATA= 'iaco02b9q_flt.fits[sci,2]' / Drizzle, input data image               D004DEXP=               1300.0 / Drizzle, input image exposure time (s)         D004OUDA= 'ngc6302_wfc3_f673n_drz_sci.fits' / Drizzle, output data image        D004OUWE= 'ngc6302_wfc3_f673n_drz_weight.fits' / Drizzle, output weighting imageD004OUCO= '' / Drizzle, output context image                                    D004MASK= 'iaco02b9q_flt_final_mask2.fits' / Drizzle, input weighting image     D004WTSC=               1300.0 / Drizzle, weighting factor for input image      D004KERN= 'square  '           / Drizzle, form of weight distribution kernel    D004PIXF=                  1.0 / Drizzle, linear size of drop                   D004COEF= 'iaco02b9q_flt_coeffs1.dat' / Drizzle, coefficients file name         D004XGIM= '' / Drizzle, X distortion image name                                 D004YGIM= '' / Drizzle, Y distortion image name                                 D004LAM =            676.59604 / Drizzle, wavelength applied for transformation D004SCAL=    0.999995555099959 / Drizzle, scale (pixel size) of output image    D004ROT =         -89.99933681 / Drizzle, rotation angle, degrees anticlockwise D004XSH =   -224.0772125137014 / Drizzle, X shift applied                       D004YSH =   -96.52519714045411 / Drizzle, Y shift applied                       D004SFTU= 'output  '           / Drizzle, units used for shifts                 D004SFTF= 'output  '           / Drizzle, frame in which shifts were applied    D004EXKY= 'EXPTIME '           / Drizzle, exposure keyword name in input image  D004INUN= 'counts  '           / Drizzle, units of input image - counts or cps  D004OUUN= 'cps     '           / Drizzle, units of output image - counts or cps D004FVAL= '0.0     '           / Drizzle, fill value for zero weight output pix D004INXC=               2048.5 / Drizzle, reference center of input image (X)   D004INYC=               1025.5 / Drizzle, reference center of input image (Y)   D004OUXC=               2800.5 / Drizzle, reference center of output image (X)  D004OUYC=               2100.5 / Drizzle, reference center of output image (Y)  D005VER = 'Callable DRIZZLE Version 0.7 (4th Apr 2005) ' / Drizzle, task versionD005GEOM= 'User parameters'    / Drizzle, source of geometric information       D005DATA= 'iaco02bnq_flt.fits[sci,1]' / Drizzle, input data image               D005DEXP=               1300.0 / Drizzle, input image exposure time (s)         D005OUDA= 'ngc6302_wfc3_f673n_drz_sci.fits' / Drizzle, output data image        D005OUWE= 'ngc6302_wfc3_f673n_drz_weight.fits' / Drizzle, output weighting imageD005OUCO= '' / Drizzle, output context image                                    D005MASK= 'iaco02bnq_flt_final_mask1.fits' / Drizzle, input weighting image     D005WTSC=               1300.0 / Drizzle, weighting factor for input image      D005KERN= 'square  '           / Drizzle, form of weight distribution kernel    D005PIXF=                  1.0 / Drizzle, linear size of drop                   D005COEF= 'iaco02bnq_flt_coeffs2.dat' / Drizzle, coefficients file name         D005XGIM= '' / Drizzle, X distortion image name                                 D005YGIM= '' / Drizzle, Y distortion image name                                 D005LAM =    676.5939900000001 / Drizzle, wavelength applied for transformation D005SCAL=   0.9999956811508329 / Drizzle, scale (pixel size) of output image    D005ROT =         -89.99931952 / Drizzle, rotation angle, degrees anticlockwise D005XSH =   -284.0716594826608 / Drizzle, X shift applied                       D005YSH =   -96.39338473745056 / Drizzle, Y shift applied                       D005SFTU= 'output  '           / Drizzle, units used for shifts                 D005SFTF= 'output  '           / Drizzle, frame in which shifts were applied    D005EXKY= 'EXPTIME '           / Drizzle, exposure keyword name in input image  D005INUN= 'counts  '           / Drizzle, units of input image - counts or cps  D005OUUN= 'cps     '           / Drizzle, units of output image - counts or cps D005FVAL= '0.0     '           / Drizzle, fill value for zero weight output pix D005INXC=               2048.5 / Drizzle, reference center of input image (X)   D005INYC=               1025.5 / Drizzle, reference center of input image (Y)   D005OUXC=               2800.5 / Drizzle, reference center of output image (X)  D005OUYC=               2100.5 / Drizzle, reference center of output image (Y)  D006VER = 'Callable DRIZZLE Version 0.7 (4th Apr 2005) ' / Drizzle, task versionD006GEOM= 'User parameters'    / Drizzle, source of geometric information       D006DATA= 'iaco02bnq_flt.fits[sci,2]' / Drizzle, input data image               D006DEXP=               1300.0 / Drizzle, input image exposure time (s)         D006OUDA= 'ngc6302_wfc3_f673n_drz_sci.fits' / Drizzle, output data image        D006OUWE= 'ngc6302_wfc3_f673n_drz_weight.fits' / Drizzle, output weighting imageD006OUCO= '' / Drizzle, output context image                                    D006MASK= 'iaco02bnq_flt_final_mask2.fits' / Drizzle, input weighting image     D006WTSC=               1300.0 / Drizzle, weighting factor for input image      D006KERN= 'square  '           / Drizzle, form of weight distribution kernel    D006PIXF=                  1.0 / Drizzle, linear size of drop                   D006COEF= 'iaco02bnq_flt_coeffs1.dat' / Drizzle, coefficients file name         D006XGIM= '' / Drizzle, X distortion image name                                 D006YGIM= '' / Drizzle, Y distortion image name                                 D006LAM =            676.59604 / Drizzle, wavelength applied for transformation D006SCAL=   0.9999955569781168 / Drizzle, scale (pixel size) of output image    D006ROT =         -89.99931983 / Drizzle, rotation angle, degrees anticlockwise D006XSH =   -284.0773148958997 / Drizzle, X shift applied                       D006YSH =   -96.38650235520208 / Drizzle, Y shift applied                       D006SFTU= 'output  '           / Drizzle, units used for shifts                 D006SFTF= 'output  '           / Drizzle, frame in which shifts were applied    D006EXKY= 'EXPTIME '           / Drizzle, exposure keyword name in input image  D006INUN= 'counts  '           / Drizzle, units of input image - counts or cps  D006OUUN= 'cps     '           / Drizzle, units of output image - counts or cps D006FVAL= '0.0     '           / Drizzle, fill value for zero weight output pix D006INXC=               2048.5 / Drizzle, reference center of input image (X)   D006INYC=               1025.5 / Drizzle, reference center of input image (Y)   D006OUXC=               2800.5 / Drizzle, reference center of output image (X)  D006OUYC=               2100.5 / Drizzle, reference center of output image (Y)  D007VER = 'Callable DRIZZLE Version 0.7 (4th Apr 2005) ' / Drizzle, task versionD007GEOM= 'User parameters'    / Drizzle, source of geometric information       D007DATA= 'iaco02bpq_flt.fits[sci,1]' / Drizzle, input data image               D007DEXP=               1300.0 / Drizzle, input image exposure time (s)         D007OUDA= 'ngc6302_wfc3_f673n_drz_sci.fits' / Drizzle, output data image        D007OUWE= 'ngc6302_wfc3_f673n_drz_weight.fits' / Drizzle, output weighting imageD007OUCO= '' / Drizzle, output context image                                    D007MASK= 'iaco02bpq_flt_final_mask1.fits' / Drizzle, input weighting image     D007WTSC=               1300.0 / Drizzle, weighting factor for input image      D007KERN= 'square  '           / Drizzle, form of weight distribution kernel    D007PIXF=                  1.0 / Drizzle, linear size of drop                   D007COEF= 'iaco02bpq_flt_coeffs2.dat' / Drizzle, coefficients file name         D007XGIM= '' / Drizzle, X distortion image name                                 D007YGIM= '' / Drizzle, Y distortion image name                                 D007LAM =    676.5939900000001 / Drizzle, wavelength applied for transformation D007SCAL=   0.9999956720925242 / Drizzle, scale (pixel size) of output image    D007ROT =   -89.99930174000001 / Drizzle, rotation angle, degrees anticlockwise D007XSH =   -344.0717566860385 / Drizzle, X shift applied                       D007YSH =   -96.25474531908731 / Drizzle, Y shift applied                       D007SFTU= 'output  '           / Drizzle, units used for shifts                 D007SFTF= 'output  '           / Drizzle, frame in which shifts were applied    D007EXKY= 'EXPTIME '           / Drizzle, exposure keyword name in input image  D007INUN= 'counts  '           / Drizzle, units of input image - counts or cps  D007OUUN= 'cps     '           / Drizzle, units of output image - counts or cps D007FVAL= '0.0     '           / Drizzle, fill value for zero weight output pix D007INXC=               2048.5 / Drizzle, reference center of input image (X)   D007INYC=               1025.5 / Drizzle, reference center of input image (Y)   D007OUXC=               2800.5 / Drizzle, reference center of output image (X)  D007OUYC=               2100.5 / Drizzle, reference center of output image (Y)  D008VER = 'Callable DRIZZLE Version 0.7 (4th Apr 2005) ' / Drizzle, task versionD008GEOM= 'User parameters'    / Drizzle, source of geometric information       D008DATA= 'iaco02bpq_flt.fits[sci,2]' / Drizzle, input data image               D008DEXP=               1300.0 / Drizzle, input image exposure time (s)         D008OUDA= 'ngc6302_wfc3_f673n_drz_sci.fits' / Drizzle, output data image        D008OUWE= 'ngc6302_wfc3_f673n_drz_weight.fits' / Drizzle, output weighting imageD008OUCO= '' / Drizzle, output context image                                    D008MASK= 'iaco02bpq_flt_final_mask2.fits' / Drizzle, input weighting image     D008WTSC=               1300.0 / Drizzle, weighting factor for input image      D008KERN= 'square  '           / Drizzle, form of weight distribution kernel    D008PIXF=                  1.0 / Drizzle, linear size of drop                   D008COEF= 'iaco02bpq_flt_coeffs1.dat' / Drizzle, coefficients file name         D008XGIM= '' / Drizzle, X distortion image name                                 D008YGIM= '' / Drizzle, Y distortion image name                                 D008LAM =            676.59604 / Drizzle, wavelength applied for transformation D008SCAL=   0.9999955630007872 / Drizzle, scale (pixel size) of output image    D008ROT =         -89.99930189 / Drizzle, rotation angle, degrees anticlockwise D008XSH =   -344.0774123938299 / Drizzle, X shift applied                       D008YSH =   -96.24786010404318 / Drizzle, Y shift applied                       D008SFTU= 'output  '           / Drizzle, units used for shifts                 D008SFTF= 'output  '           / Drizzle, frame in which shifts were applied    D008EXKY= 'EXPTIME '           / Drizzle, exposure keyword name in input image  D008INUN= 'counts  '           / Drizzle, units of input image - counts or cps  D008OUUN= 'cps     '           / Drizzle, units of output image - counts or cps D008FVAL= '0.0     '           / Drizzle, fill value for zero weight output pix D008INXC=               2048.5 / Drizzle, reference center of input image (X)   D008INYC=               1025.5 / Drizzle, reference center of input image (Y)   D008OUXC=               2800.5 / Drizzle, reference center of output image (X)  D008OUYC=               2100.5 / Drizzle, reference center of output image (Y)  EXPNAME = 'iaco02b0q                ' / exposure identifier                     BUNIT   = 'electrons/S'        / Units of science product                       CCDCHIP = '-999    '           / CCD chip (1 or 2)                              WCSAXES =                    2 / number of World Coordinate System axes         CRPIX1  =                2800. / Reference pixel shifted for cutout             CRPIX2  =                2100. / Reference pixel shifted for cutout             CRVAL1  =             258.4536 / first axis value at reference pixel            CRVAL2  =             -37.1147 / second axis value at reference pixel           CTYPE1  = 'RA---TAN'           / the coordinate type for the first axis         CTYPE2  = 'DEC--TAN'           / the coordinate type for the second axis        CTYPE3  = 'RGB     '           / RGB color image                                CD1_1   = -9.101648897111537E-06 / partial of first axis coordinate w.r.t. x    CD1_2   = 6.373043167895588E-06 / partial of first axis coordinate w.r.t. y     CD2_1   = 6.373043167895588E-06 / partial of second axis coordinate w.r.t. x    CD2_2   = 9.101648897111537E-06 / partial of second axis coordinate w.r.t. y    LTV1    =        0.0000000E+00 / offset in X to subsection start                LTV2    =        0.0000000E+00 / offset in Y to subsection start                LTM1_1  =                  1.0 / reciprocal of sampling rate in X               LTM2_2  =                  1.0 / reciprocal of sampling rate in Y               PA_APER =             -55.1939 / Position Angle of reference aperture center (deVAFACTOR=                  1.0 / velocity aberration plate scale factor         ORIENTAT=                 35.0 / position angle of image y axis (deg. e of n)   RA_APER =   2.584312254167E+02 / RA of aperture reference position              DEC_APER=  -3.710384166667E+01 / Declination of aperture reference position     NCOMBINE=                    4 / number of image sets combined during CR rejectiPHOTMODE= 'WFC3 UVIS2 F673N CAL' / observation con                              PHOTFLAM=        2.5397603E-18 / inverse sensitivity, ergs/cm2/Ang/electron     PHOTFNU =        3.8781818E-06 / inverse sensitivity, Jy*sec/electron           PHOTZPT =       -2.1100000E+01 / ST magnitude zero point                        PHOTPLAM=        6.7659399E+03 / Pivot wavelength (Angstroms)                   PHOTBW  =        4.2203514E+01 / RMS bandwidth of filter plus detector          CENTERA1=                 2104 / subarray axis1 center pt in unbinned dect. pix CENTERA2=                 1036 / subarray axis2 center pt in unbinned dect. pix SIZAXIS1=                 4096 / subarray axis1 size in unbinned detector pixelsSIZAXIS2=                 2051 / subarray axis2 size in unbinned detector pixelsBINAXIS1=                    1 / axis1 data bin size in unbinned detector pixelsBINAXIS2=                    1 / axis2 data bin size in unbinned detector pixelsFILLCNT =                    0 / number of segments containing fill             ERRCNT  =                    0 / number of segments containing errors           PODPSFF =                    F / podps fill present (T/F)                       STDCFFF =                    F / science telemetry fill data present (T=1/F=0)  STDCFFP = 'x5569 '             / science telemetry fill pattern (hex)           NGOODPIX=              8392585 / number of good pixels                          SDQFLAGS=                31743 / serious data quality flags                     GOODMIN =       -7.5787597E+09 / minimum value of good pixels                   GOODMAX =        9.0191411E+09 / maximum value of good pixels                   GOODMEAN=        1.6925970E+03 / mean value of good pixels                      SNRMIN  =       -2.0411940E+01 / minimum signal to noise of good pixels         SNRMAX  =        2.0796404E+02 / maximum signal to noise of good pixels         SNRMEAN =        3.4887457E+00 / mean value of signal to noise of good pixels   SOFTERRS=                    0 / number of soft error pixels (DQF=1)            MEANDARK=       -3.2116812E-02 / average of the dark values subtracted          MEANBLEV=        2.5546072E+03 / average of all bias levels subtracted          MEANFLSH=             0.000000 / Mean number of counts in post flash exposure   OCRVAL1 =       258.4430039997 / first axis value at reference pixel            OCRVAL2 =      -37.11004659276 / second axis value at reference pixel           OCRPIX2 =               1026.0 / y-coordinate of reference pixel                OCRPIX1 =               2048.0 / x-coordinate of reference pixel                ONAXIS2 =                 2051 / Axis length                                    ONAXIS1 =                 4096 / Axis length                                    OCD2_2  =          6.30316E-06 / partial of second axis coordinate w.r.t. y     OCD2_1  = -8.651949999999999E-06 / partial of second axis coordinate w.r.t. x   OORIENTA=   -55.21935767754782 / position angle of image y axis (deg. e of n)   OCTYPE1 = 'RA---TAN'           / the coordinate type for the first axis         OCD1_1  =          -6.8959E-06 / partial of first axis coordinate w.r.t. x      OCD1_2  =          -9.0756E-06 / partial of first axis coordinate w.r.t. y      OCTYPE2 = 'DEC--TAN'           / the coordinate type for the second axis        WCSCDATE= '16:42:10 (03/09/2009)' / Time WCS keywords were copied.              OCX10   = 0.0001616483204998076                                                 OCX11   =  0.03978846594691277                                                  OCY10   =  0.03983559086918831                                                  OCY11   = 0.002340755192562938                                                  HISTORY CCD parameters table:                                                   HISTORY   reference table iref$t291659mi_ccd.fits                               HISTORY     GROUND                                                              HISTORY     UVIS-1 CCD characteristics from TV3 data                            HISTORY     From TV3 data                                                       HISTORY Uncertainty array initialized.                                          HISTORY DQICORR complete ...                                                    HISTORY   values checked for saturation                                         HISTORY   DQ array initialized ...                                              HISTORY   reference table iref$t2c1533si_bpx.fits                               HISTORY     GROUND                                                              HISTORY     UVIS-1 bad columns from TV3 biases and flats                        HISTORY BLEVCORR complete; bias level from overscan was subtracted.             HISTORY BLEVCORR includes correction for drift along lines.                     HISTORY   Overscan region table:                                                HISTORY   reference table iref$q911321oi_osc.fits                               HISTORY     GROUND                                                              HISTORY     WFC3 normal overscan CCD data compatible                            HISTORY BIASCORR complete ...                                                   HISTORY   reference image b09061275_bia.fits                                    HISTORY     INFLIGHT 12/06/2009 07/08/2009                                      HISTORY     Bias intended for use with full-frame four amp readouts.----------- HISTORY CCD parameters table:                                                   HISTORY   reference table iref$t291659mi_ccd.fits                               HISTORY     GROUND                                                              HISTORY     UVIS-1 CCD characteristics from TV3 data                            HISTORY     From TV3 data                                                       HISTORY DARKCORR complete ...                                                   HISTORY   reference image iref$t3420177i_drk.fits                               HISTORY     GROUND                                                              HISTORY     Dark created from WFC3/UVIS TV3 frames for -82C, MEB2.              HISTORY FLATCORR complete ...                                                   HISTORY   reference image iref$t4t18334i_pfl.fits                               HISTORY     GROUND                                                              HISTORY     F673N flat created from WFC3/UVIS TV3 frames.---------------------- HISTORY PHOTCORR complete ...                                                   HISTORY   reference table mtab$t2605492m_tmg.fits                               HISTORY     Directed graph description of hst                                   HISTORY   reference table mtab$t8h1822tm_tmc.fits                               HISTORY     The lookup table for the HST component throughputs                  HISTORY EXPSCORR complete ...                                                   HISTORY PyDrizzle processing performed using:                                   HISTORY     PyDrizzle Version 6.3.0 (3-Sep-2008)                                HISTORY     Numpy Version 1.0.4                                                 HISTORY     PyFITS Version 1.4                                                  HISTORY iaco02b0q_flt.fits MDRIZSKY = 0                                         HISTORY iaco02b9q_flt.fits MDRIZSKY = 0                                         HISTORY iaco02bnq_flt.fits MDRIZSKY = 0                                         HISTORY iaco02bpq_flt.fits MDRIZSKY = 0                                         HISTORY MultiDrizzle product generated using:                                   HISTORY  PyDrizzle Version 6.3.0 (3-Sep-2008)                                   HISTORY  NUMPY Version  1.0.4                                                   HISTORY  PyFITS Version    1.4                                                  HISTORY  MultiDrizzle 3.2.1                                                     HISTORY  Python Version:                                                        HISTORY  # 2.5.1 (r251:54863, Mar 17 2008, 15:32:01)                            HISTORY  # [GCC 4.0.1 (Apple Computer, Inc. build 5367)]                        HISTORY  #                                                                      DESCRIP = 'Data drizzled by Max Mutchler at STScI'                                                                                                                                                                                                                                                                                                                                                                                                                                                                                                                                                                                                                                                                                                                                                                                                                                                                                                                                                                                                                                                                                                                                                                                              HISTORY Created by fitscut 1.4.2 (William Jon McCann)                           END                                                                                                                                                                                                                                                                                                                                                                                                                                                                                                                                                                                                                                                                                                                                                                                                                                                                                                                                                                                                                                                                                                                                                                                                                                                                                                                                                                                                                                                                                                                                                                                                                                                                                                                                                                                                                                                                                                                                                                                                                                                                                                                                                                                                                                                                                                                                                                                                                                                                                                                                                                                                                                                             \n"
     ]
    }
   ],
   "source": [
    "#acessing the header \n",
    "hdu = fits.open(butterfly_nebula) # opening a fits file \n",
    "header = hdu[0].header # header of data stored in No. 0 (the primary HDU)\n",
    "print(header)\n",
    "hdu.close() #closing a fits file "
   ]
  },
  {
   "cell_type": "code",
   "execution_count": 5,
   "id": "2dc184c7-8865-44e6-a84a-b0e6a3f1246f",
   "metadata": {},
   "outputs": [
    {
     "name": "stdout",
     "output_type": "stream",
     "text": [
      "258.4312254167\n",
      "-37.10384166667\n"
     ]
    }
   ],
   "source": [
    "#acessing information stored in keywords of the header \n",
    "print(header[\"RA_TARG\"]) \n",
    "print(header[\"DEC_TARG\"]) "
   ]
  },
  {
   "cell_type": "code",
   "execution_count": 6,
   "id": "d2d63336-59ac-4ff7-bd0b-b0ffabb9c199",
   "metadata": {},
   "outputs": [
    {
     "name": "stdout",
     "output_type": "stream",
     "text": [
      "(3, 4200, 5600)\n"
     ]
    }
   ],
   "source": [
    "# acessing data stored within a fits file \n",
    "hdu = fits.open(butterfly_nebula)\n",
    "data = hdu[0].data #data stored in No. 0 (the primary HDU)\n",
    "print(data.shape) # 3 filters stored as 3D cube \n",
    "filter_1 = data[0,:,:] #getting the first filter, data[1,:,:] holds the second filter, data[2,:,:] holds the third filter \n",
    "hdu.close()"
   ]
  },
  {
   "cell_type": "code",
   "execution_count": null,
   "id": "2d380841-4cb2-4004-ab00-0bdf64f01b4d",
   "metadata": {},
   "outputs": [],
   "source": [
    "from astropy.visualization import ImageNormalize, PercentileInterval, SqrtStretch, LogStretch # functions to help with data visualization "
   ]
  },
  {
   "cell_type": "code",
   "execution_count": null,
   "id": "73b9f7ad-b26d-4df6-96d5-4b850f819a32",
   "metadata": {},
   "outputs": [],
   "source": [
    "norm = ImageNormalize(stretch=SqrtStretch(), vmin=0, vmax=0.4) #defines a square root stretch that we can apply to the image, sets the minimum and maximum pixel values to show\n",
    "\n",
    "plt.figure(figsize=(10, 8))\n",
    "plt.imshow(filter_1, cmap='viridis', origin='lower', norm=norm) #plot 2d data with normalization defined by norm, cmap sets the colormap to use, origin='lower' gets you pixel (0,0) in the lower left corner\n",
    "plt.colorbar()\n",
    "plt.title(\"Butterfly Nebula\")\n",
    "plt.show()"
   ]
  },
  {
   "cell_type": "code",
   "execution_count": null,
   "id": "dadb1a65-3711-4dc7-801b-450e99c6ff97",
   "metadata": {},
   "outputs": [],
   "source": [
    "print(\"Let's print the mean and median value in filter 1!\")\n",
    "print(\"Mean=\", np.mean(filter_1))\n",
    "print(\"Median=\", np.median(filter_1))"
   ]
  },
  {
   "cell_type": "code",
   "execution_count": null,
   "id": "4605b0cf-2d42-4d60-a2ff-d74e7d2411f4",
   "metadata": {},
   "outputs": [],
   "source": [
    "print(\"Let's try the functions that ignore NaNs:\")\n",
    "print(\"Mean=\", np.nanmean(filter_1))\n",
    "print(\"Median=\", np.nanmedian(filter_1))"
   ]
  },
  {
   "cell_type": "code",
   "execution_count": null,
   "id": "380e7ee6-6173-4abe-bacd-4240d36eebd8",
   "metadata": {},
   "outputs": [],
   "source": [
    "print(\"Maximum Pixel Value=\", np.nanmax(filter_1)) \n",
    "print(\"Minimum Pixel Value=\", np.nanmin(filter_1))"
   ]
  },
  {
   "cell_type": "code",
   "execution_count": null,
   "id": "10310e85-4a2a-4457-ae26-3898290ae607",
   "metadata": {},
   "outputs": [],
   "source": [
    "filter1_data_without_NaNs = filter_1[0:3800,900:4600] # slice to get data free from NaNs (use plotted image to guide the range of indices)\n",
    "\n",
    "mean_of_each_col = np.nanmedian(filter1_data_without_NaNs, axis=0) #Find the Median across each column (axis=1 gives the median across each row)"
   ]
  },
  {
   "cell_type": "code",
   "execution_count": null,
   "id": "5a7fb4ae-26d7-4b77-830f-04af367dc99d",
   "metadata": {},
   "outputs": [],
   "source": [
    "plt.figure(figsize=(8, 5))\n",
    "plt.hist(mean_of_each_col, bins=50, color=\"dodgerblue\", alpha=0.8) #plotting a histogram of the array of medians where bins=50 gives 50 total bins in our histogram\n",
    "\n",
    "plt.xlabel(\"Pixel Intensity\")\n",
    "plt.ylabel(\"Frequency\")\n",
    "plt.title(\"Histogram of Column Medians\")\n",
    "plt.yscale('log')  # log scale to see low-frequency bins\n",
    "\n",
    "plt.show()"
   ]
  },
  {
   "cell_type": "markdown",
   "id": "054278a2-8226-4a05-8365-6cc1551d7fa6",
   "metadata": {},
   "source": [
    "# FITS File Excercise"
   ]
  },
  {
   "cell_type": "markdown",
   "id": "f99b518c-0c8d-45e7-9ffa-e3f3d3031368",
   "metadata": {},
   "source": [
    "Extract the Target Name, Sun Angle and Moon Angle from the header."
   ]
  },
  {
   "cell_type": "code",
   "execution_count": null,
   "id": "19ff7e1d-96db-41b3-82de-e9144374816c",
   "metadata": {},
   "outputs": [],
   "source": []
  },
  {
   "cell_type": "code",
   "execution_count": null,
   "id": "0e810916-fcf7-433f-8839-73d635cf16fa",
   "metadata": {},
   "outputs": [],
   "source": []
  },
  {
   "cell_type": "markdown",
   "id": "798dcdc0-f229-43e3-9f47-851ab401dd24",
   "metadata": {},
   "source": [
    "Open the fits file as above and store data[1,:,:] and data[2,:,:] as variables named filter_2 and filter_3 respectively."
   ]
  },
  {
   "cell_type": "code",
   "execution_count": null,
   "id": "cc9be166-05fc-4949-a792-68fef45b7f1a",
   "metadata": {},
   "outputs": [],
   "source": []
  },
  {
   "cell_type": "code",
   "execution_count": null,
   "id": "1f9e1f32-fc76-4b6c-9e77-33bff9889f46",
   "metadata": {},
   "outputs": [],
   "source": []
  },
  {
   "cell_type": "code",
   "execution_count": null,
   "id": "adee2f29-cbba-4e3d-aca6-647b95f4b4c6",
   "metadata": {},
   "outputs": [],
   "source": []
  },
  {
   "cell_type": "markdown",
   "id": "47a2f250-994a-4345-81fb-e84481001cb7",
   "metadata": {},
   "source": [
    "Plot filter_2 and filter_3 using stretches that showcase features of the butterfly nebula."
   ]
  },
  {
   "cell_type": "code",
   "execution_count": null,
   "id": "3103f7f1-031e-48ef-9ba8-f7aea0dfd090",
   "metadata": {},
   "outputs": [],
   "source": []
  },
  {
   "cell_type": "code",
   "execution_count": null,
   "id": "ee470a58-6700-48a1-8ce9-d9c2ff424f24",
   "metadata": {},
   "outputs": [],
   "source": []
  },
  {
   "cell_type": "code",
   "execution_count": null,
   "id": "1d274453-5554-451e-a56b-7b39f4927f99",
   "metadata": {},
   "outputs": [],
   "source": []
  },
  {
   "cell_type": "markdown",
   "id": "816ad63e-e11b-406b-933c-678166a7844a",
   "metadata": {},
   "source": [
    "Extract the mean and median of the images. Find the maximum and minimum pixel values in each filter. Then, make a histogram that shows the distribution of the median of each row in filter_2 and filter_3."
   ]
  },
  {
   "cell_type": "code",
   "execution_count": null,
   "id": "77a8cdfe-e8d0-494f-a5cc-a8ba711c128d",
   "metadata": {},
   "outputs": [],
   "source": []
  },
  {
   "cell_type": "code",
   "execution_count": null,
   "id": "918c7bbc-1ced-4d29-ac3f-711bbba14a4e",
   "metadata": {},
   "outputs": [],
   "source": []
  },
  {
   "cell_type": "code",
   "execution_count": null,
   "id": "0e8fbd09-d3af-4a59-99a1-b9a073d3439c",
   "metadata": {},
   "outputs": [],
   "source": []
  },
  {
   "cell_type": "markdown",
   "id": "216c7655-2ed9-4927-85dc-27bd3eec2d1b",
   "metadata": {},
   "source": [
    "You can combine the three filters to make an RGB image (this is how we get all of the pretty color images!)"
   ]
  },
  {
   "cell_type": "code",
   "execution_count": null,
   "id": "c1849608-5779-464b-a78b-aa20d8e65dbf",
   "metadata": {},
   "outputs": [],
   "source": [
    "from astropy.visualization import make_lupton_rgb"
   ]
  },
  {
   "cell_type": "code",
   "execution_count": null,
   "id": "b0d0c4b4-425d-4bd2-b1a5-0252d405be68",
   "metadata": {},
   "outputs": [],
   "source": [
    "# Create RGB image (can adjust stretch & Q for contrast)\n",
    "interval = PercentileInterval(99.5)  # Clip top/bottom 0.25% and keep 99.5% of the original data; this can be applied to our filters \n",
    "filter_2 = data[1,:,:] #equivalent to what you did above! \n",
    "filter_3 = data[2,:,:] #equivalent to what you did above! \n",
    "\n",
    "rgb_image = make_lupton_rgb(interval(filter_1), # your reddest filter (shows up as red in final image)\n",
    "                            interval(filter_2), # your intermediate filter (shows up as green in final image)\n",
    "                            interval(filter_3), # your bluest filter (shows up as blue in final image)\n",
    "                            Q=6, stretch=0.1)   #parameters that adjust the stretch to make features visible \n",
    "\n",
    "plt.figure(figsize=(10, 10))\n",
    "plt.imshow(rgb_image, origin='lower')\n",
    "plt.axis('off') #removes the axes with the pixel numbers labeled\n",
    "plt.title(\"RGB Composite\")\n",
    "plt.show()"
   ]
  },
  {
   "cell_type": "code",
   "execution_count": null,
   "id": "4326c047-1575-442d-b458-e546c8415298",
   "metadata": {},
   "outputs": [],
   "source": []
  }
 ],
 "metadata": {
  "kernelspec": {
   "display_name": "Python 3 (ipykernel)",
   "language": "python",
   "name": "python3"
  },
  "language_info": {
   "codemirror_mode": {
    "name": "ipython",
    "version": 3
   },
   "file_extension": ".py",
   "mimetype": "text/x-python",
   "name": "python",
   "nbconvert_exporter": "python",
   "pygments_lexer": "ipython3",
   "version": "3.12.4"
  }
 },
 "nbformat": 4,
 "nbformat_minor": 5
}
