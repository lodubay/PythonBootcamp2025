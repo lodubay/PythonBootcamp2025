{
 "cells": [
  {
   "cell_type": "markdown",
   "id": "8afa5d3f",
   "metadata": {},
   "source": [
    "# Classes in Python\n",
    "\n",
    "## Introduction\n",
    "\n",
    "### What are they? Why should I care?\n",
    "\n",
    "A *class* is how you implement a new object.\n",
    "\n",
    "Python is an **object-oriented** language - if you're a Python programmer and you've never written a class, you're missing out on the single most powerful aspect of the language by far.\n",
    "\n",
    "### The Python Model\n",
    "\n",
    " Everything is an object in Python, whether you knew it or not.\n",
    "\n",
    "Objects have:\n",
    "* Attributes\n",
    "* Functions\n",
    "* Data\n",
    "which are unique to the object. Objects can also interact with other objects.\n",
    "\n",
    "## Data Containers\n",
    "\n",
    "The simplest object is a \"data container\" - all it does is hold onto the attributes that you give it.\n",
    "\n",
    "`class container: pass` is all you need.\n",
    "(You can call the class anything, it doesn't need to be called \"container\".)\n",
    "\n",
    "The argument `pass` here means \"do nothing\". Objects with more specialization will instead have `def` statements within them."
   ]
  },
  {
   "cell_type": "code",
   "execution_count": 1,
   "id": "928e647d",
   "metadata": {},
   "outputs": [],
   "source": [
    "# the most basic class\n",
    "class container:\n",
    "    pass"
   ]
  },
  {
   "cell_type": "markdown",
   "id": "58bf5143",
   "metadata": {},
   "source": [
    "Once you define your class, you need to initialize an *instance* of the class by calling it before you can use it."
   ]
  },
  {
   "cell_type": "code",
   "execution_count": 2,
   "id": "564822dc",
   "metadata": {},
   "outputs": [],
   "source": [
    "x = container()"
   ]
  },
  {
   "cell_type": "markdown",
   "id": "97d341c0",
   "metadata": {},
   "source": [
    "Now we can add data to our container."
   ]
  },
  {
   "cell_type": "code",
   "execution_count": 5,
   "id": "15758d01",
   "metadata": {},
   "outputs": [
    {
     "data": {
      "text/plain": [
       "array([1.3493949 , 0.3256582 , 0.34591288, 0.32758094, 1.04764811,\n",
       "       1.45923059, 0.84951801, 0.47038119, 0.03167624, 0.51111944])"
      ]
     },
     "execution_count": 5,
     "metadata": {},
     "output_type": "execute_result"
    }
   ],
   "source": [
    "# numpy only needed to generate the data, not for the class\n",
    "import numpy as np\n",
    "\n",
    "# randomly generate an array of 10 masses (enforce positive)\n",
    "x.masses = abs(np.random.normal(size=10))\n",
    "\n",
    "x.radii = abs(np.random.normal(size = 10))\n",
    "\n",
    "x.luminosities = abs(np.random.normal(size = 10))\n",
    "\n",
    "# demonstrate that the container has stored the information\n",
    "x.masses"
   ]
  },
  {
   "cell_type": "markdown",
   "id": "3064cca0",
   "metadata": {},
   "source": [
    "The ``<name>.<attribute>`` syntax is going to keep coming back - it's how you access attributes and functions associated with specific objects.\n",
    "\n",
    "### Example Object: A Dog\n",
    "\n",
    "* Attributes: color, breed, name, genter\n",
    "* Functions: bark, roll over, shake, eat, drink, chase their tail\n",
    "* Data: date of birth, vet records, previous owners\n",
    "* Interactions with other objects: play with other dogs/owner, chase cats\n",
    "\n",
    "How you create instances of the class (i.e., objects) is determined by the `__init__` function.\n",
    "\n",
    "The first argument to `__init__` should always be *self* - this is true of most functions in a class, and refers to the object itself being passed to the function as an argument."
   ]
  },
  {
   "cell_type": "code",
   "execution_count": 6,
   "id": "27d8a62f",
   "metadata": {},
   "outputs": [],
   "source": [
    "class dog:\n",
    "    \"\"\"\n",
    "    Implements a dog in Python\n",
    "    \"\"\"\n",
    "    def __init__(self, name, breed):\n",
    "        # Take a parameter passed when the class is called\n",
    "        # and turn it into an attribute\n",
    "        self.name = name\n",
    "        self.breed = breed"
   ]
  },
  {
   "cell_type": "code",
   "execution_count": 7,
   "id": "3bc6928e",
   "metadata": {},
   "outputs": [
    {
     "name": "stdout",
     "output_type": "stream",
     "text": [
      "Spot\n",
      "Dalmation\n"
     ]
    }
   ],
   "source": [
    "# Initialize an instance for Spot\n",
    "Spot = dog(\"Spot\", \"Dalmation\")\n",
    "print(Spot.name)\n",
    "print(Spot.breed)"
   ]
  },
  {
   "cell_type": "markdown",
   "id": "9feea234",
   "metadata": {},
   "source": [
    "Notice that `__init__` takes three parameters, including `self`, but to initialize \"Spot\" we only had to provide two. When initializing a class or using its functions, you don't have to provide anything for `self`."
   ]
  },
  {
   "cell_type": "code",
   "execution_count": 8,
   "id": "4fee237e",
   "metadata": {},
   "outputs": [
    {
     "name": "stdout",
     "output_type": "stream",
     "text": [
      "Snoopy\n",
      "Beagle\n"
     ]
    }
   ],
   "source": [
    "# Initialize a different instance for Snoopy\n",
    "Snoopy = dog(\"Snoopy\", \"Beagle\")\n",
    "print(Snoopy.name)\n",
    "print(Snoopy.breed)"
   ]
  },
  {
   "cell_type": "markdown",
   "id": "3029226c",
   "metadata": {},
   "source": [
    "This gets the job done, but it's easily broken: we can provide any variable type for the class inputs, not just a string."
   ]
  },
  {
   "cell_type": "code",
   "execution_count": 9,
   "id": "ad3d05ff",
   "metadata": {},
   "outputs": [
    {
     "name": "stdout",
     "output_type": "stream",
     "text": [
      "3\n",
      "[0, 3, 7]\n"
     ]
    }
   ],
   "source": [
    "Snoopy.name = 3\n",
    "Snoopy.breed = [0, 3, 7]\n",
    "\n",
    "print(Snoopy.name)\n",
    "print(Snoopy.breed)"
   ]
  },
  {
   "cell_type": "markdown",
   "id": "1b5cb781",
   "metadata": {},
   "source": [
    "## Attributes: *property* and *setter* functions\n",
    "\n",
    "Error handling of attributes requires *property* and *setter* functions.\n",
    "\n",
    "`self._property` is a conventional way of storing `self.property` under the hood, protected by error-handling. Python doesn't distinguish between public and private variables, so the leading underscore is a way to let the user know that they shouldn't be accessing that attribute directly.\n",
    "\n",
    "The following code throws a `TypeError` whenever the user tries to set `name` or `breed` to something other than a string.\n",
    "\n",
    "Note: anything with an `@` tag, like `@property`, is called a \"decorator\"."
   ]
  },
  {
   "cell_type": "code",
   "execution_count": 10,
   "id": "67e4321a",
   "metadata": {},
   "outputs": [],
   "source": [
    "class dog:\n",
    "    \"\"\"\n",
    "    Implements a dog in Python\n",
    "    \"\"\"\n",
    "    def __init__(self, name, breed):\n",
    "        self.name = name\n",
    "        self.breed = breed\n",
    "    \n",
    "    # This function defines what happens when someone calls, e.g.,\n",
    "    # Snoopy.name\n",
    "    @property\n",
    "    def name(self):\n",
    "        \"\"\"\n",
    "        Type: str\n",
    "        \n",
    "        The name of the dog\n",
    "        \"\"\"\n",
    "        return self._name\n",
    "    \n",
    "    # This function defines what happens when someone tries to set `name`\n",
    "    # to a new value, e.g.\n",
    "    # Snoopy.name = <value>\n",
    "    @name.setter\n",
    "    def name(self, value):\n",
    "        # Check if the variable is actually a string\n",
    "        if isinstance(value, str):\n",
    "            # If it is, we allow the name attribute to be changed\n",
    "            self._name = value\n",
    "        else:\n",
    "            # If it isn't, raise an error!\n",
    "            raise TypeError(f\"Attribute 'name' must be a string. Got: {type(value)}\")\n",
    "    \n",
    "    @property\n",
    "    def breed(self):\n",
    "        \"\"\"\n",
    "        Type: str\n",
    "\n",
    "        The breed of the dog.\n",
    "        \"\"\"\n",
    "        return self._breed\n",
    "    \n",
    "    @breed.setter\n",
    "    def breed(self, value):\n",
    "        if isinstance(value, str):\n",
    "            self._breed = value\n",
    "        else:\n",
    "            # Note: this is an \"f-string\" which allows us to access the value of a variable\n",
    "            raise TypeError(f\"Attribute 'breed' must be a string. Got: {type(value)}\")"
   ]
  },
  {
   "cell_type": "markdown",
   "id": "34d2d6af",
   "metadata": {},
   "source": [
    "Now we can see how our class behaves with proper error handling! Try setting `Snoopy.name` and `Snoopy.breed` to something other than a string and see what happens."
   ]
  },
  {
   "cell_type": "code",
   "execution_count": null,
   "id": "d38d8721",
   "metadata": {},
   "outputs": [
    {
     "name": "stdout",
     "output_type": "stream",
     "text": [
      "Snoopy\n",
      "Beagle\n"
     ]
    }
   ],
   "source": [
    "Snoopy = dog(\"Snoopy\", \"Beagle\")\n",
    "print(Snoopy.name)\n",
    "print(Snoopy.breed)\n",
    "Snoopy.name = "
   ]
  },
  {
   "cell_type": "code",
   "execution_count": null,
   "id": "25c3eee9",
   "metadata": {},
   "outputs": [],
   "source": [
    "Snoopy.breed = "
   ]
  },
  {
   "cell_type": "markdown",
   "id": "c49d9673",
   "metadata": {},
   "source": [
    "Another important note is that there is no special connection between a property, like `self.x`, and an attribute with stored data, like `self._x`. The similarity of the names is simply a convention. You have to define the relationship so that the property references the data, like we did above.\n",
    "\n",
    "In this example, the values of certain properties are calculated \"on the fly\" based on just one value which is actually stored as internal data."
   ]
  },
  {
   "cell_type": "code",
   "execution_count": null,
   "id": "2cd4feab",
   "metadata": {},
   "outputs": [],
   "source": [
    "class example:\n",
    "    def __init__(self, value):\n",
    "        # The stored data\n",
    "        self._value = value\n",
    "    \n",
    "    # The property that returns the stored data\n",
    "    @property\n",
    "    def value(self):\n",
    "        return self._value\n",
    "    \n",
    "    # A property that calculates a value on the fly based on the data\n",
    "    @property\n",
    "    def onemore(self):\n",
    "        return self._value + 1\n",
    "\n",
    "    @property\n",
    "    def twomore(self):\n",
    "        return self._value + 2"
   ]
  },
  {
   "cell_type": "code",
   "execution_count": null,
   "id": "ccd57ef5",
   "metadata": {},
   "outputs": [
    {
     "name": "stdout",
     "output_type": "stream",
     "text": [
      "4\n",
      "4\n",
      "5\n"
     ]
    }
   ],
   "source": [
    "x = example(4)\n",
    "print(x.value)\n",
    "print(x.onemore)\n",
    "print(x.twomore)"
   ]
  },
  {
   "cell_type": "markdown",
   "id": "df620844",
   "metadata": {},
   "source": [
    "# Functions in classes\n",
    "\n",
    "Classes can have functions, too. These functions can have any number of subroutines, just like other functions, and can access properties and other functions via `self`."
   ]
  },
  {
   "cell_type": "code",
   "execution_count": null,
   "id": "f1deb7f1",
   "metadata": {},
   "outputs": [],
   "source": [
    "class dog:\n",
    "    \"\"\"\n",
    "    Implements a dog in Python\n",
    "    \"\"\"\n",
    "    def __init__(self, name, breed):\n",
    "        self.name = name\n",
    "        self.breed = breed\n",
    "    \n",
    "    @property\n",
    "    def name(self):\n",
    "        \"\"\"\n",
    "        Type: str\n",
    "        \n",
    "        The name of the dog\n",
    "        \"\"\"\n",
    "        return self._name\n",
    "    \n",
    "    @name.setter\n",
    "    def name(self, value):\n",
    "        if isinstance(value, str):\n",
    "            self._name = value\n",
    "        else:\n",
    "            raise TypeError(f\"Attribute 'name' must be a string. Got: {type(value)}\")\n",
    "    \n",
    "    @property\n",
    "    def breed(self):\n",
    "        \"\"\"\n",
    "        Type: str\n",
    "\n",
    "        The breed of the dog.\n",
    "        \"\"\"\n",
    "        return self._breed\n",
    "    \n",
    "    @breed.setter\n",
    "    def breed(self, value):\n",
    "        if isinstance(value, str):\n",
    "            self._breed = value\n",
    "        else:\n",
    "            raise TypeError(f\"Attribute 'breed' must be a string. Got: {type(value)}\")\n",
    "    \n",
    "    def speak(self):\n",
    "        \"\"\"\n",
    "        Makes the dog bark when you tell it to speak.\n",
    "        \"\"\"\n",
    "        print(f\"{self.name} says \\\"Woof!\\\"\")"
   ]
  },
  {
   "cell_type": "markdown",
   "id": "330f60ee",
   "metadata": {},
   "source": [
    "Even if the function takes no other arguments, you typically need to give it the `self` argument in the definition. When you actually call the function on the instance, you don't need to pass anything for `self`."
   ]
  },
  {
   "cell_type": "code",
   "execution_count": 7,
   "id": "593fbca8",
   "metadata": {},
   "outputs": [
    {
     "name": "stdout",
     "output_type": "stream",
     "text": [
      "Snoopy says \"Woof!\"\n"
     ]
    }
   ],
   "source": [
    "snoopy = dog(\"Snoopy\", \"Beagle\")\n",
    "snoopy.speak()"
   ]
  },
  {
   "cell_type": "markdown",
   "id": "7d36018b",
   "metadata": {},
   "source": [
    "Note that since `self` refers to the *instance* of the class, `x.func()` is the same as `classname.func(x)`. For example:"
   ]
  },
  {
   "cell_type": "code",
   "execution_count": 3,
   "id": "fb410d17",
   "metadata": {},
   "outputs": [
    {
     "name": "stdout",
     "output_type": "stream",
     "text": [
      "Snoopy says \"Woof!\"\n"
     ]
    }
   ],
   "source": [
    "dog.speak(snoopy)"
   ]
  },
  {
   "cell_type": "markdown",
   "id": "2b6509ef",
   "metadata": {},
   "source": [
    "### Static methods\n",
    "\n",
    "*Static methods* are functions which are bound the class itself, not the object of the class. That means they can't access or modify the class directly. \n",
    "\n",
    "Typically, these are implemented as part of a class because it makes sense to do so - the functionality fits in with the rest of the class, for example. \n",
    "\n",
    "Static methods are created with the `@staticmethod` decorator. They do not take `self` as an argument, and they are called with the name of the class rather than the instance.\n",
    "\n",
    "An example static method: `is_puppy` to determine if a dog is a puppy or not."
   ]
  },
  {
   "cell_type": "code",
   "execution_count": null,
   "id": "458f50a6",
   "metadata": {},
   "outputs": [],
   "source": [
    "class dog:\n",
    "    \"\"\"\n",
    "    Implements a dog in Python\n",
    "    \"\"\"\n",
    "    def __init__(self, name, breed):\n",
    "        self.name = name\n",
    "        self.breed = breed\n",
    "    \n",
    "    @property\n",
    "    def name(self):\n",
    "        \"\"\"\n",
    "        Type: str\n",
    "        \n",
    "        The name of the dog\n",
    "        \"\"\"\n",
    "        return self._name\n",
    "    \n",
    "    @name.setter\n",
    "    def name(self, value):\n",
    "        if isinstance(value, str):\n",
    "            self._name = value\n",
    "        else:\n",
    "            raise TypeError(f\"Attribute 'name' must be a string. Got: {type(value)}\")\n",
    "    \n",
    "    @property\n",
    "    def breed(self):\n",
    "        \"\"\"\n",
    "        Type: str\n",
    "\n",
    "        The breed of the dog.\n",
    "        \"\"\"\n",
    "        return self._breed\n",
    "    \n",
    "    @breed.setter\n",
    "    def breed(self, value):\n",
    "        if isinstance(value, str):\n",
    "            self._breed = value\n",
    "        else:\n",
    "            raise TypeError(f\"Attribute 'breed' must be a string. Got: {type(value)}\")\n",
    "    \n",
    "    def speak(self):\n",
    "        \"\"\"\n",
    "        Makes the dog bark when you tell it to speak.\n",
    "        \"\"\"\n",
    "        print(f\"{self.name} says \\\"Woof!\\\"\")\n",
    "\n",
    "    @staticmethod\n",
    "    def is_puppy(age):\n",
    "        \"\"\"\n",
    "        Determine if a dog is a puppy.\n",
    "\n",
    "        Signature: dog.is_puppy(age)\n",
    "\n",
    "        Parameters\n",
    "        ----------\n",
    "        age : int\n",
    "            The age of the dog in years.\n",
    "        \n",
    "        Returns\n",
    "        -------\n",
    "        puppy : bool\n",
    "            True if age < 2 years, otherwise False.\n",
    "        \"\"\"\n",
    "        if isinstance(age, int):\n",
    "            return age < 2\n",
    "        else:\n",
    "            raise TypeError(f\"Must be an integer. Got: {type(age)}\")"
   ]
  },
  {
   "cell_type": "code",
   "execution_count": 5,
   "id": "eaf16505",
   "metadata": {},
   "outputs": [
    {
     "data": {
      "text/plain": [
       "True"
      ]
     },
     "execution_count": 5,
     "metadata": {},
     "output_type": "execute_result"
    }
   ],
   "source": [
    "dog.is_puppy(1)"
   ]
  },
  {
   "cell_type": "code",
   "execution_count": 6,
   "id": "c801f584",
   "metadata": {},
   "outputs": [
    {
     "data": {
      "text/plain": [
       "False"
      ]
     },
     "execution_count": 6,
     "metadata": {},
     "output_type": "execute_result"
    }
   ],
   "source": [
    "dog.is_puppy(5)"
   ]
  },
  {
   "cell_type": "markdown",
   "id": "75c6c3e9",
   "metadata": {},
   "source": [
    "### Class Methods\n",
    "\n",
    "Like static methods, *class methods* are bound to the class rather than objects of the class. Unlike static methods, they can access and modify the class state. Class methods take the `cls` argument rather than `self`, and they return an *instance* of the class (i.e., an object). They are created with the `@classmethod` decorator.\n",
    "\n",
    "As an example, we can define a class method to create Snoopy."
   ]
  },
  {
   "cell_type": "code",
   "execution_count": 9,
   "id": "3e57a065",
   "metadata": {},
   "outputs": [],
   "source": [
    "class dog:\n",
    "    \"\"\"\n",
    "    Implements a dog in Python\n",
    "    \"\"\"\n",
    "    def __init__(self, name, breed):\n",
    "        self.name = name\n",
    "        self.breed = breed\n",
    "    \n",
    "    @property\n",
    "    def name(self):\n",
    "        \"\"\"\n",
    "        Type: str\n",
    "        \n",
    "        The name of the dog\n",
    "        \"\"\"\n",
    "        return self._name\n",
    "    \n",
    "    @name.setter\n",
    "    def name(self, value):\n",
    "        if isinstance(value, str):\n",
    "            self._name = value\n",
    "        else:\n",
    "            raise TypeError(f\"Attribute 'name' must be a string. Got: {type(value)}\")\n",
    "    \n",
    "    @property\n",
    "    def breed(self):\n",
    "        \"\"\"\n",
    "        Type: str\n",
    "\n",
    "        The breed of the dog.\n",
    "        \"\"\"\n",
    "        return self._breed\n",
    "    \n",
    "    @breed.setter\n",
    "    def breed(self, value):\n",
    "        if isinstance(value, str):\n",
    "            self._breed = value\n",
    "        else:\n",
    "            raise TypeError(f\"Attribute 'breed' must be a string. Got: {type(value)}\")\n",
    "    \n",
    "    def speak(self):\n",
    "        \"\"\"\n",
    "        Makes the dog bark when you tell it to speak.\n",
    "        \"\"\"\n",
    "        print(f\"{self.name} says \\\"Woof!\\\"\")\n",
    "\n",
    "    @staticmethod\n",
    "    def is_puppy(age):\n",
    "        \"\"\"\n",
    "        Determine if a dog is a puppy.\n",
    "\n",
    "        Signature: dog.is_puppy(age)\n",
    "\n",
    "        Parameters\n",
    "        ----------\n",
    "        age : int\n",
    "            The age of the dog in years.\n",
    "        \n",
    "        Returns\n",
    "        -------\n",
    "        puppy : bool\n",
    "            True if age < 2 years, otherwise False.\n",
    "        \"\"\"\n",
    "        if isinstance(age, int):\n",
    "            return age < 2\n",
    "        else:\n",
    "            raise TypeError(f\"Must be an integer. Got: {type(age)}\")\n",
    "    \n",
    "    @classmethod\n",
    "    def snoopy(cls):\n",
    "        \"\"\"\n",
    "        Returns Snoopy.\n",
    "        \"\"\"\n",
    "        # Reference the class itself with cls instead of dog\n",
    "        return cls(\"Snoopy\", \"Beagle\")"
   ]
  },
  {
   "cell_type": "code",
   "execution_count": 10,
   "id": "064d33ba",
   "metadata": {},
   "outputs": [
    {
     "name": "stdout",
     "output_type": "stream",
     "text": [
      "Snoopy\n",
      "Beagle\n"
     ]
    }
   ],
   "source": [
    "snoopy = dog.snoopy()\n",
    "print(snoopy.name)\n",
    "print(snoopy.breed)"
   ]
  },
  {
   "cell_type": "markdown",
   "id": "c699fecb",
   "metadata": {},
   "source": [
    "## Exercise: Exponential Growth and Decay \n",
    "\n",
    "Write a class which implements exponential growth and decay. (Hint: you don't \n",
    "need to treat growth and decay separately here). \n",
    "\n",
    "Correct solutions will have two two properties - \"normalization\" and \"rate\". \n",
    "The normalization describes the value of the exponential at x = 0, and rate \n",
    "describes the e-folding length in units of the x-coordinate. These attribute \n",
    "should have property and setter functions with error handling. Correct \n",
    "solutions will have a default value of 1 for both of these attributes. \n",
    "\n",
    "Make this class callable by the value x alone (i.e. example(1) should return \n",
    "the value of the exponential at x = 1). "
   ]
  },
  {
   "cell_type": "markdown",
   "id": "63afbeb2",
   "metadata": {},
   "source": []
  },
  {
   "cell_type": "markdown",
   "id": "12c04f47",
   "metadata": {},
   "source": [
    "## Syntactic Sugar and Magic Methods\n",
    "\n",
    "Syntactic sugar refers to a line of code which is interpreted the same as another, but is more readable. This sounds complicated, but don't worry - you've been using it all along, you just didn't know it.\n",
    "\n",
    "To implement syntactic sugar, you as the programmer write functions with specific names which are referred to as \"magic methods\". These usually begin and end with double underscores, so they're also nicknamed \"dunder methods\".\n",
    "\n",
    "For example, the following two lines of code do the same thing, but the first shows the magic method (without syntactic sugar) and the second uses syntactic sugar."
   ]
  },
  {
   "cell_type": "code",
   "execution_count": null,
   "id": "1a561815",
   "metadata": {},
   "outputs": [
    {
     "name": "stdout",
     "output_type": "stream",
     "text": [
      "2\n",
      "2\n"
     ]
    }
   ],
   "source": [
    "x = 1\n",
    "# x.__add__() is the magic method for addition (x+1)\n",
    "print(x.__add__(1))\n",
    "print(x + 1)"
   ]
  },
  {
   "cell_type": "markdown",
   "id": "26c569e2",
   "metadata": {},
   "source": [
    "Syntactic sugar can be used to emulate array-like indexing, item assignment, calling, and more:\n",
    "\n",
    "| With Syntactic Sugar  | Without Syntactic Sugar   |\n",
    "| --------------------- | ------------------------- |\n",
    "| x[0]                  | x.\\_\\_getitem__(0)          |\n",
    "| x(0)                  | x.\\_\\_call__(0)             |\n",
    "| x[0] = 1              | x.\\_\\_setitem__(0, 1)       |\n",
    "| str(x)                | x.\\_\\_str__() and x.\\_\\_repr__()  |\n",
    "\n",
    "It can also be used to emulate numeric types:\n",
    "\n",
    "| With Syntactic Sugar  | Without Syntactic Sugar   |\n",
    "| --------------------- | ------------------------- |\n",
    "| x + y                 | x.\\_\\_add__(y)              |\n",
    "| x += y                | x.\\_\\_radd__(y)           |\n",
    "| x - y                 | x.\\_\\_sub__(y)            |\n",
    "| x * y                 | x.\\_\\_mul__(y)            |\n",
    "| x / y                 | x.\\_\\_div__(y)            |\n",
    "| x // y                | x.\\_\\_floordiv__(y)       |\n",
    "| x % y                 | x.\\_\\_mod__(y)            |\n",
    "| +x                    | x.\\_\\_pos__(y)            |\n",
    "| -x                    | x.\\_\\_neg__(y)            |\n",
    "| x == y                | x.\\_\\_eq__(y)             |\n",
    "| x != y                | x.\\_\\_ne__(y)             |\n",
    "\n",
    "There are many other forms of syntactic sugar - here is a reference on many of the magic methods you can implement: https://www.tutorialsteacher.com/python/magic-methods-in-python.\n",
    "\n",
    "### Example: Polynomials with Syntactic Sugar\n",
    "\n",
    "Let's make a class to represent a generic polynomial. The class should include:\n",
    "* Properties: coefficients and the order of the polynomial\n",
    "* Indexing: index *i* should return the *i*th coefficient\n",
    "* Calling: *f(x)* should evaluate the polynomial at the value of *x*\n",
    "* Item assignment: *f[i] = a* should assign the *i*th coefficient to the value of *a*\n",
    "* A string representation\n",
    "\n",
    "Scroll through the code below and add the missing pieces. Then test it out\n",
    "in the cells below.\n",
    "\n",
    "Note: the solution is scripted at day5/examples/mypkg/mathlib/polynomial.py in the repository. It's essentially a reimplementation of NumPy's *poly1d* object."
   ]
  },
  {
   "cell_type": "code",
   "execution_count": null,
   "id": "79b30769",
   "metadata": {},
   "outputs": [],
   "source": [
    "import numbers # from the standard library, used for error handling only\n",
    "import numpy as np\n",
    "\n",
    "class polynomial: \n",
    "\t\"\"\" \n",
    "\tN-th degree mathematical polynomial functions f(x) \n",
    "\n",
    "\tParameters \n",
    "\t----------\n",
    "\tcoeffs : array-like \n",
    "\t\tThe coefficients of the polynomial. See attribute below. \n",
    "\t\tMust be either a list, tuple, or numpy array. \n",
    "\n",
    "\tAttributes \n",
    "\t----------\n",
    "\tcoeffs : numpy array \n",
    "\t\tThe coefficients of the polynomial, in order of increasing exponent on \n",
    "\t\tthe independent variable x. \n",
    "\torder : int \n",
    "\t\tThe order of the polynomial. \n",
    "\t\"\"\" \n",
    "    # First add the __init__ function and properties\n",
    "\tdef __init__(self, coeffs): \n",
    "\t\tself.coeffs = coeffs\n",
    "\n",
    "    # Properties for the coefficients and order\n",
    "\t@property \n",
    "\tdef coeffs(self): \n",
    "\t\tr\"\"\" \n",
    "\t\tType : numpy array \n",
    "\n",
    "\t\tThe numerical coefficients of the polynomial, in order of increasing \n",
    "\t\texponent on x \n",
    "\t\t\"\"\" \n",
    "\t\treturn self._coeffs \n",
    "\n",
    "    # A good example of producion-level code, with lots of error handling\n",
    "\t@coeffs.setter \n",
    "\tdef coeffs(self, value): \n",
    "\t\t# Make sure coeffs is a list or tuple\n",
    "\t\tif isinstance(value, list) or isinstance(value, tuple): \n",
    "\t\t\t# Make sure each item in coeffs is a number\n",
    "\t\t\tif all([isinstance(i, numbers.Number) for i in value]): \n",
    "\t\t\t\t# Store coefficients as a numpy array\n",
    "\t\t\t\tself._coeffs = np.array(value) \n",
    "\t\t\telse: \n",
    "\t\t\t\traise TypeError(\"Non-numerical value in coefficients.\") \n",
    "\t\t# Allow numpy arrays as well (requires slightly different syntax)\n",
    "\t\telif isinstance(value, np.ndarray): \n",
    "\t\t\tif all([isinstance(i, numbers.Number) for i in value]): \n",
    "\t\t\t\tself._coeffs = value[:] \n",
    "\t\t\telse: \n",
    "\t\t\t\traise TypeError(\"Non-numerical value in coefficients.\") \n",
    "\t\telse: \n",
    "\t\t\traise TypeError(\"\"\"Attribute 'coeffs' must be either a list, \\\n",
    "tuple, or numpy array. Got: %s\"\"\" % (type(value))) \n",
    "\n",
    "\t@property \n",
    "\tdef order(self): \n",
    "\t\tr\"\"\" \n",
    "\t\tType : int \n",
    "\n",
    "\t\tThe order of the polynomial \n",
    "\t\t\"\"\" \n",
    "\t\t# Calculate the order on the fly from the self._coeffs attribute\n",
    "\t\treturn \n",
    "\n",
    "\t# Indexing - requires __getitem__, which takes the index as a parameter\n",
    "\tdef __getitem__(self, index): \n",
    "\t\tif isinstance(index, int): \n",
    "\t\t\t# Don't need any more error handling - self._coeffs is a numpy \n",
    "\t\t\t# array and will raise errors for us \n",
    "\t\t\treturn self._coeffs[index] \n",
    "\t\telse: \n",
    "\t\t\traise IndexError(\"Index must be an integer.\") \n",
    "\n",
    "\t# Calling - requires __call__ function, which takes any number of parameters\n",
    "\tdef __call__(self, x): \n",
    "\t\t# Evaluate the polynomial at x\n",
    "\t\treturn\n",
    "\n",
    "\t# Item assignment - requires __setitem__ function, which takes the index\n",
    "\t# and the value to assign, in that order\n",
    "\tdef __setitem__(self, index, value): \n",
    "\t\tif isinstance(index, int): \n",
    "\t\t\tif 0 <= index <= self.order: \n",
    "\t\t\t\tif isinstance(value, numbers.Number): \n",
    "\t\t\t\t\tself._coeffs[index] = value \n",
    "\t\t\t\telse: \n",
    "\t\t\t\t\traise TypeError(\"Must be a numerical value. Got: %s\" % (\n",
    "\t\t\t\t\t\ttype(value))) \n",
    "\t\t\telse: \n",
    "\t\t\t\traise IndexError(\"Index out of bounds.\") \n",
    "\t\telse: \n",
    "\t\t\traise IndexError(\"Must be an integer. Got: %s\" % (type(index))) \n",
    "\n",
    "\t# A string representation - requires __str__ and __repr__ functions,\n",
    "\t# which do slightly different things.\n",
    "\t# __repr__ is called when you run a line with just the object in ipython\n",
    "\t# or in a notebook.\n",
    "\tdef __repr__(self): \n",
    "\t\trep = \"\" \n",
    "\t\tfor i in range(self.order + 1): \n",
    "\t\t\tif i: \n",
    "\t\t\t\tif self._coeffs[i] > 0: \n",
    "\t\t\t\t\trep += \"+ %.2fx^%d \" % (self._coeffs[i], i) \n",
    "\t\t\t\telif self._coeffs[i] < 0: \n",
    "\t\t\t\t\trep += \"- %.2fx^%d \" % (-self._coeffs[i], i) \n",
    "\t\t\t\telse: \n",
    "\t\t\t\t\t# don't print if the coefficient is zero \n",
    "\t\t\t\t\tpass \n",
    "\t\t\telse: \n",
    "\t\t\t\tif self._coeffs[i] > 0: \n",
    "\t\t\t\t\trep += \"%.2f \" % (self._coeffs[i]) \n",
    "\t\t\t\telif self._coeffs[i] < 0: \n",
    "\t\t\t\t\trep += \"-%.2f \" % (-self._coeffs[i]) \n",
    "\t\t\t\telse: \n",
    "\t\t\t\t\t# don't print if the coefficient is zero \n",
    "\t\t\t\t\tpass \n",
    "\t\treturn rep \n",
    "\n",
    "\t# __str__ is called when you type-cast to a string\n",
    "\t# Technically this is not necessary - by default, if __str__ is not defined,\n",
    "\t# it returns self.__repr__(), but it's included here as an example\n",
    "\tdef __str__(self): \n",
    "\t\treturn self.__repr__() \n",
    "\n",
    "\t# Unary +: the same as the original polynomial\n",
    "\tdef __pos__(self): \n",
    "\t\treturn self \n",
    "\n",
    "\t# Unary -: each coefficient is the negative of the original\n",
    "\tdef __neg__(self): \n",
    "\t\t# Magic methods can return anything, so you need to specifically\n",
    "\t\t# create a polynomial object here\n",
    "\t\treturn \n",
    "\n",
    "\t# Addition: add the coefficients of each power on x\n",
    "\tdef __add__(self, other): \n",
    "\t\tif isinstance(other, polynomial): \n",
    "\t\t\tnew_coeffs = (max(other.order, self.order) + 1) * [0.] \n",
    "\t\t\tfor i in range(len(new_coeffs)): \n",
    "\t\t\t\tif i <= self.order: new_coeffs[i] += self[i] \n",
    "\t\t\t\tif i <= other.order: new_coeffs[i] += other[i] \n",
    "\t\t\treturn polynomial(new_coeffs) \n",
    "\t\telse: \n",
    "\t\t\traise TypeError(\"Must be a polynomial object. Got: %s\" % (\n",
    "\t\t\t\ttype(other))) \n",
    "\n",
    "\t# Subtraction: use what we've already written to add the negative\n",
    "\tdef __sub__(self, other): \n",
    "\t\tif isinstance(other, polynomial): \n",
    "\t\t\t# The same as \"return self + -other\" \n",
    "\t\t\treturn \n",
    "\t\telse: \n",
    "\t\t\traise TypeError(\"Must be a polynomial object. Got: %s\" % (\n",
    "\t\t\t\ttype(other))) \n",
    "\n",
    "\t# Equivalence comparison: if two polynomials have the same coefficients,\n",
    "\t# say that they are equal to one another\n",
    "\tdef __eq__(self, other): \n",
    "\t\tif isinstance(other, polynomial): \n",
    "\t\t\tif self.order == other.order: \n",
    "\t\t\t\t# Use all() to compare the two lists of coefficients\n",
    "\t\t\t\treturn \n",
    "\t\t\telse: \n",
    "\t\t\t\treturn False \n",
    "\t\telse: \n",
    "\t\t\treturn False \n",
    "\n",
    "\t# Non-equivalence: again, use what we already wrote\n",
    "\tdef __ne__(self, other): \n",
    "\t\treturn "
   ]
  },
  {
   "cell_type": "markdown",
   "id": "6ba61649",
   "metadata": {},
   "source": [
    "Let's see our object in action:"
   ]
  },
  {
   "cell_type": "code",
   "execution_count": 14,
   "id": "2c562977",
   "metadata": {},
   "outputs": [
    {
     "name": "stdout",
     "output_type": "stream",
     "text": [
      "1.00 + 2.00x^1 - 1.00x^2 + 3.00x^3 - 3.00x^4 \n",
      "1\n",
      "2\n",
      "1\n",
      "-164\n",
      "322\n",
      "[ 1  2 -1  3  3]\n",
      "1.00 + 2.00x^1 - 1.00x^2 + 3.00x^3 + 3.00x^4 \n",
      "4\n"
     ]
    }
   ],
   "source": [
    "example = polynomial([1, 2, -1, 3, -3])\n",
    "# String representation\n",
    "print(example)\n",
    "# Indexing\n",
    "print(example[0])\n",
    "print(example[1])\n",
    "# Calling\n",
    "print(example(0))\n",
    "print(example(3))\n",
    "# Item reassignment\n",
    "example[4] = 3\n",
    "print(example(3))\n",
    "print(example.coeffs)\n",
    "print(example)\n",
    "# Test the order property\n",
    "print(example.order)"
   ]
  },
  {
   "cell_type": "markdown",
   "id": "17703f09",
   "metadata": {},
   "source": [
    "Now let's try out those numerical magic methods!"
   ]
  },
  {
   "cell_type": "code",
   "execution_count": 15,
   "id": "1becc6d9",
   "metadata": {},
   "outputs": [
    {
     "name": "stdout",
     "output_type": "stream",
     "text": [
      "False\n",
      "True\n",
      "2.00 + 5.00x^1 + 7.00x^2 \n",
      "- 1.00x^1 - 1.00x^2 \n",
      "80.0\n",
      "-2.0\n"
     ]
    }
   ],
   "source": [
    "x = polynomial([1, 2, 3])\n",
    "y = polynomial([1, 3, 4])\n",
    "# Equivalence - if one is false, the other should be true\n",
    "print(x == y)\n",
    "print(x != y)\n",
    "# Addition and subtraction\n",
    "print(x + y)\n",
    "print(x - y)\n",
    "# Without defining a new variable for x + y, we can still use the polynomial functionality\n",
    "print((x + y)(3))\n",
    "print((x - y)(1))"
   ]
  },
  {
   "cell_type": "markdown",
   "id": "722edfd0",
   "metadata": {},
   "source": [
    "### Recall: Lists vs Arrays\n",
    "\n",
    "If it wasn't already, it should now be fairly clear what we mean when we say that lists and arrays are different object.s\n",
    "\n",
    "They are instances of different classes with different source code. That means\n",
    "you can't guarantee that they will interact in the same way."
   ]
  }
 ],
 "metadata": {
  "kernelspec": {
   "display_name": "base",
   "language": "python",
   "name": "python3"
  },
  "language_info": {
   "codemirror_mode": {
    "name": "ipython",
    "version": 3
   },
   "file_extension": ".py",
   "mimetype": "text/x-python",
   "name": "python",
   "nbconvert_exporter": "python",
   "pygments_lexer": "ipython3",
   "version": "3.12.2"
  }
 },
 "nbformat": 4,
 "nbformat_minor": 5
}
